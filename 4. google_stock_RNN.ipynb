{
  "metadata": {
    "kernelspec": {
      "language": "python",
      "display_name": "Python 3",
      "name": "python3"
    },
    "language_info": {
      "name": "python",
      "version": "3.7.12",
      "mimetype": "text/x-python",
      "codemirror_mode": {
        "name": "ipython",
        "version": 3
      },
      "pygments_lexer": "ipython3",
      "nbconvert_exporter": "python",
      "file_extension": ".py"
    },
    "colab": {
      "provenance": []
    }
  },
  "nbformat_minor": 0,
  "nbformat": 4,
  "cells": [
    {
      "cell_type": "code",
      "source": [
        "import numpy as np # linear algebra\n",
        "import pandas as pd # data processing, CSV file I/O (e.g. pd.read_csv)\n",
        "import matplotlib.pyplot as plt\n",
        "from tensorflow.keras.models import Sequential\n",
        "from tensorflow.keras.layers import Dense, Dropout,LSTM\n",
        "import numpy as np\n",
        "from sklearn.preprocessing import MinMaxScaler\n",
        "import math\n",
        "from sklearn.metrics import mean_squared_error\n",
        "# from kerastuner.engine.hyperparameters import HyperParameters\n",
        "from tensorflow import keras\n",
        "from tensorflow.keras import layers\n",
        "# from kerastuner.tuners import RandomSearch"
      ],
      "metadata": {
        "execution": {
          "iopub.status.busy": "2022-08-03T04:22:04.492570Z",
          "iopub.execute_input": "2022-08-03T04:22:04.493402Z",
          "iopub.status.idle": "2022-08-03T04:22:12.763959Z",
          "shell.execute_reply.started": "2022-08-03T04:22:04.493297Z",
          "shell.execute_reply": "2022-08-03T04:22:12.762592Z"
        },
        "trusted": true,
        "id": "uk8IAuS_FsNH"
      },
      "execution_count": null,
      "outputs": []
    },
    {
      "cell_type": "code",
      "source": [
        "df_test = pd.read_csv('/content/Google_Stock_Price_Test.csv')\n",
        "df_train = pd.read_csv('/content/Google_Stock_Price_Train.csv')\n",
        "df = pd.concat([df_test,df_train])"
      ],
      "metadata": {
        "execution": {
          "iopub.status.busy": "2022-08-03T04:22:12.766405Z",
          "iopub.execute_input": "2022-08-03T04:22:12.767521Z",
          "iopub.status.idle": "2022-08-03T04:22:12.806799Z",
          "shell.execute_reply.started": "2022-08-03T04:22:12.767470Z",
          "shell.execute_reply": "2022-08-03T04:22:12.805889Z"
        },
        "trusted": true,
        "id": "VSNeSLfpFsNL"
      },
      "execution_count": null,
      "outputs": []
    },
    {
      "cell_type": "code",
      "source": [
        "df.head()"
      ],
      "metadata": {
        "execution": {
          "iopub.status.busy": "2022-08-03T04:29:03.958985Z",
          "iopub.execute_input": "2022-08-03T04:29:03.959440Z",
          "iopub.status.idle": "2022-08-03T04:29:03.979595Z",
          "shell.execute_reply.started": "2022-08-03T04:29:03.959407Z",
          "shell.execute_reply": "2022-08-03T04:29:03.978133Z"
        },
        "trusted": true,
        "colab": {
          "base_uri": "https://localhost:8080/",
          "height": 206
        },
        "id": "xDz0LRlwFsNM",
        "outputId": "f1244458-bcdd-4134-8d9a-1bb5ad34098b"
      },
      "execution_count": null,
      "outputs": [
        {
          "output_type": "execute_result",
          "data": {
            "text/plain": [
              "       Date    Open    High     Low   Close     Volume\n",
              "0  1/3/2017  778.81  789.63  775.80  786.14  1,657,300\n",
              "1  1/4/2017  788.36  791.34  783.16   786.9  1,073,000\n",
              "2  1/5/2017  786.08  794.48  785.02  794.02  1,335,200\n",
              "3  1/6/2017  795.26  807.90  792.20  806.15  1,640,200\n",
              "4  1/9/2017  806.40  809.97  802.83  806.65  1,272,400"
            ],
            "text/html": [
              "\n",
              "  <div id=\"df-94909726-4682-48af-b569-9ecc07c9875a\">\n",
              "    <div class=\"colab-df-container\">\n",
              "      <div>\n",
              "<style scoped>\n",
              "    .dataframe tbody tr th:only-of-type {\n",
              "        vertical-align: middle;\n",
              "    }\n",
              "\n",
              "    .dataframe tbody tr th {\n",
              "        vertical-align: top;\n",
              "    }\n",
              "\n",
              "    .dataframe thead th {\n",
              "        text-align: right;\n",
              "    }\n",
              "</style>\n",
              "<table border=\"1\" class=\"dataframe\">\n",
              "  <thead>\n",
              "    <tr style=\"text-align: right;\">\n",
              "      <th></th>\n",
              "      <th>Date</th>\n",
              "      <th>Open</th>\n",
              "      <th>High</th>\n",
              "      <th>Low</th>\n",
              "      <th>Close</th>\n",
              "      <th>Volume</th>\n",
              "    </tr>\n",
              "  </thead>\n",
              "  <tbody>\n",
              "    <tr>\n",
              "      <th>0</th>\n",
              "      <td>1/3/2017</td>\n",
              "      <td>778.81</td>\n",
              "      <td>789.63</td>\n",
              "      <td>775.80</td>\n",
              "      <td>786.14</td>\n",
              "      <td>1,657,300</td>\n",
              "    </tr>\n",
              "    <tr>\n",
              "      <th>1</th>\n",
              "      <td>1/4/2017</td>\n",
              "      <td>788.36</td>\n",
              "      <td>791.34</td>\n",
              "      <td>783.16</td>\n",
              "      <td>786.9</td>\n",
              "      <td>1,073,000</td>\n",
              "    </tr>\n",
              "    <tr>\n",
              "      <th>2</th>\n",
              "      <td>1/5/2017</td>\n",
              "      <td>786.08</td>\n",
              "      <td>794.48</td>\n",
              "      <td>785.02</td>\n",
              "      <td>794.02</td>\n",
              "      <td>1,335,200</td>\n",
              "    </tr>\n",
              "    <tr>\n",
              "      <th>3</th>\n",
              "      <td>1/6/2017</td>\n",
              "      <td>795.26</td>\n",
              "      <td>807.90</td>\n",
              "      <td>792.20</td>\n",
              "      <td>806.15</td>\n",
              "      <td>1,640,200</td>\n",
              "    </tr>\n",
              "    <tr>\n",
              "      <th>4</th>\n",
              "      <td>1/9/2017</td>\n",
              "      <td>806.40</td>\n",
              "      <td>809.97</td>\n",
              "      <td>802.83</td>\n",
              "      <td>806.65</td>\n",
              "      <td>1,272,400</td>\n",
              "    </tr>\n",
              "  </tbody>\n",
              "</table>\n",
              "</div>\n",
              "      <button class=\"colab-df-convert\" onclick=\"convertToInteractive('df-94909726-4682-48af-b569-9ecc07c9875a')\"\n",
              "              title=\"Convert this dataframe to an interactive table.\"\n",
              "              style=\"display:none;\">\n",
              "        \n",
              "  <svg xmlns=\"http://www.w3.org/2000/svg\" height=\"24px\"viewBox=\"0 0 24 24\"\n",
              "       width=\"24px\">\n",
              "    <path d=\"M0 0h24v24H0V0z\" fill=\"none\"/>\n",
              "    <path d=\"M18.56 5.44l.94 2.06.94-2.06 2.06-.94-2.06-.94-.94-2.06-.94 2.06-2.06.94zm-11 1L8.5 8.5l.94-2.06 2.06-.94-2.06-.94L8.5 2.5l-.94 2.06-2.06.94zm10 10l.94 2.06.94-2.06 2.06-.94-2.06-.94-.94-2.06-.94 2.06-2.06.94z\"/><path d=\"M17.41 7.96l-1.37-1.37c-.4-.4-.92-.59-1.43-.59-.52 0-1.04.2-1.43.59L10.3 9.45l-7.72 7.72c-.78.78-.78 2.05 0 2.83L4 21.41c.39.39.9.59 1.41.59.51 0 1.02-.2 1.41-.59l7.78-7.78 2.81-2.81c.8-.78.8-2.07 0-2.86zM5.41 20L4 18.59l7.72-7.72 1.47 1.35L5.41 20z\"/>\n",
              "  </svg>\n",
              "      </button>\n",
              "      \n",
              "  <style>\n",
              "    .colab-df-container {\n",
              "      display:flex;\n",
              "      flex-wrap:wrap;\n",
              "      gap: 12px;\n",
              "    }\n",
              "\n",
              "    .colab-df-convert {\n",
              "      background-color: #E8F0FE;\n",
              "      border: none;\n",
              "      border-radius: 50%;\n",
              "      cursor: pointer;\n",
              "      display: none;\n",
              "      fill: #1967D2;\n",
              "      height: 32px;\n",
              "      padding: 0 0 0 0;\n",
              "      width: 32px;\n",
              "    }\n",
              "\n",
              "    .colab-df-convert:hover {\n",
              "      background-color: #E2EBFA;\n",
              "      box-shadow: 0px 1px 2px rgba(60, 64, 67, 0.3), 0px 1px 3px 1px rgba(60, 64, 67, 0.15);\n",
              "      fill: #174EA6;\n",
              "    }\n",
              "\n",
              "    [theme=dark] .colab-df-convert {\n",
              "      background-color: #3B4455;\n",
              "      fill: #D2E3FC;\n",
              "    }\n",
              "\n",
              "    [theme=dark] .colab-df-convert:hover {\n",
              "      background-color: #434B5C;\n",
              "      box-shadow: 0px 1px 3px 1px rgba(0, 0, 0, 0.15);\n",
              "      filter: drop-shadow(0px 1px 2px rgba(0, 0, 0, 0.3));\n",
              "      fill: #FFFFFF;\n",
              "    }\n",
              "  </style>\n",
              "\n",
              "      <script>\n",
              "        const buttonEl =\n",
              "          document.querySelector('#df-94909726-4682-48af-b569-9ecc07c9875a button.colab-df-convert');\n",
              "        buttonEl.style.display =\n",
              "          google.colab.kernel.accessAllowed ? 'block' : 'none';\n",
              "\n",
              "        async function convertToInteractive(key) {\n",
              "          const element = document.querySelector('#df-94909726-4682-48af-b569-9ecc07c9875a');\n",
              "          const dataTable =\n",
              "            await google.colab.kernel.invokeFunction('convertToInteractive',\n",
              "                                                     [key], {});\n",
              "          if (!dataTable) return;\n",
              "\n",
              "          const docLinkHtml = 'Like what you see? Visit the ' +\n",
              "            '<a target=\"_blank\" href=https://colab.research.google.com/notebooks/data_table.ipynb>data table notebook</a>'\n",
              "            + ' to learn more about interactive tables.';\n",
              "          element.innerHTML = '';\n",
              "          dataTable['output_type'] = 'display_data';\n",
              "          await google.colab.output.renderOutput(dataTable, element);\n",
              "          const docLink = document.createElement('div');\n",
              "          docLink.innerHTML = docLinkHtml;\n",
              "          element.appendChild(docLink);\n",
              "        }\n",
              "      </script>\n",
              "    </div>\n",
              "  </div>\n",
              "  "
            ]
          },
          "metadata": {},
          "execution_count": 6
        }
      ]
    },
    {
      "cell_type": "code",
      "source": [
        "df.info()"
      ],
      "metadata": {
        "execution": {
          "iopub.status.busy": "2022-08-03T04:29:06.330671Z",
          "iopub.execute_input": "2022-08-03T04:29:06.331220Z",
          "iopub.status.idle": "2022-08-03T04:29:06.360161Z",
          "shell.execute_reply.started": "2022-08-03T04:29:06.331171Z",
          "shell.execute_reply": "2022-08-03T04:29:06.359118Z"
        },
        "trusted": true,
        "colab": {
          "base_uri": "https://localhost:8080/"
        },
        "id": "lcdODyOnFsNN",
        "outputId": "80bf13f1-c320-4ae7-9c42-1dad9bb534f5"
      },
      "execution_count": null,
      "outputs": [
        {
          "output_type": "stream",
          "name": "stdout",
          "text": [
            "<class 'pandas.core.frame.DataFrame'>\n",
            "Int64Index: 1278 entries, 0 to 1257\n",
            "Data columns (total 6 columns):\n",
            " #   Column  Non-Null Count  Dtype  \n",
            "---  ------  --------------  -----  \n",
            " 0   Date    1278 non-null   object \n",
            " 1   Open    1278 non-null   float64\n",
            " 2   High    1278 non-null   float64\n",
            " 3   Low     1278 non-null   float64\n",
            " 4   Close   1278 non-null   object \n",
            " 5   Volume  1278 non-null   object \n",
            "dtypes: float64(3), object(3)\n",
            "memory usage: 69.9+ KB\n"
          ]
        }
      ]
    },
    {
      "cell_type": "code",
      "source": [
        "df.describe()"
      ],
      "metadata": {
        "execution": {
          "iopub.status.busy": "2022-08-03T04:29:11.187041Z",
          "iopub.execute_input": "2022-08-03T04:29:11.187589Z",
          "iopub.status.idle": "2022-08-03T04:29:11.214047Z",
          "shell.execute_reply.started": "2022-08-03T04:29:11.187542Z",
          "shell.execute_reply": "2022-08-03T04:29:11.213077Z"
        },
        "trusted": true,
        "colab": {
          "base_uri": "https://localhost:8080/",
          "height": 300
        },
        "id": "8Xh4YvazFsNN",
        "outputId": "7cc25758-c615-4c6c-fb1e-ecb59dc4af9d"
      },
      "execution_count": null,
      "outputs": [
        {
          "output_type": "execute_result",
          "data": {
            "text/plain": [
              "              Open         High          Low\n",
              "count  1278.000000  1278.000000  1278.000000\n",
              "mean    537.994906   542.168897   533.278803\n",
              "std     154.508365   155.582501   153.174011\n",
              "min     279.120000   281.210000   277.220000\n",
              "25%     406.037500   408.230000   403.335000\n",
              "50%     538.395000   542.330000   534.355000\n",
              "75%     668.862500   677.705000   662.190000\n",
              "max     837.810000   841.950000   827.010000"
            ],
            "text/html": [
              "\n",
              "  <div id=\"df-2744f883-ee72-4aad-9f0a-7d1c5c70ec20\">\n",
              "    <div class=\"colab-df-container\">\n",
              "      <div>\n",
              "<style scoped>\n",
              "    .dataframe tbody tr th:only-of-type {\n",
              "        vertical-align: middle;\n",
              "    }\n",
              "\n",
              "    .dataframe tbody tr th {\n",
              "        vertical-align: top;\n",
              "    }\n",
              "\n",
              "    .dataframe thead th {\n",
              "        text-align: right;\n",
              "    }\n",
              "</style>\n",
              "<table border=\"1\" class=\"dataframe\">\n",
              "  <thead>\n",
              "    <tr style=\"text-align: right;\">\n",
              "      <th></th>\n",
              "      <th>Open</th>\n",
              "      <th>High</th>\n",
              "      <th>Low</th>\n",
              "    </tr>\n",
              "  </thead>\n",
              "  <tbody>\n",
              "    <tr>\n",
              "      <th>count</th>\n",
              "      <td>1278.000000</td>\n",
              "      <td>1278.000000</td>\n",
              "      <td>1278.000000</td>\n",
              "    </tr>\n",
              "    <tr>\n",
              "      <th>mean</th>\n",
              "      <td>537.994906</td>\n",
              "      <td>542.168897</td>\n",
              "      <td>533.278803</td>\n",
              "    </tr>\n",
              "    <tr>\n",
              "      <th>std</th>\n",
              "      <td>154.508365</td>\n",
              "      <td>155.582501</td>\n",
              "      <td>153.174011</td>\n",
              "    </tr>\n",
              "    <tr>\n",
              "      <th>min</th>\n",
              "      <td>279.120000</td>\n",
              "      <td>281.210000</td>\n",
              "      <td>277.220000</td>\n",
              "    </tr>\n",
              "    <tr>\n",
              "      <th>25%</th>\n",
              "      <td>406.037500</td>\n",
              "      <td>408.230000</td>\n",
              "      <td>403.335000</td>\n",
              "    </tr>\n",
              "    <tr>\n",
              "      <th>50%</th>\n",
              "      <td>538.395000</td>\n",
              "      <td>542.330000</td>\n",
              "      <td>534.355000</td>\n",
              "    </tr>\n",
              "    <tr>\n",
              "      <th>75%</th>\n",
              "      <td>668.862500</td>\n",
              "      <td>677.705000</td>\n",
              "      <td>662.190000</td>\n",
              "    </tr>\n",
              "    <tr>\n",
              "      <th>max</th>\n",
              "      <td>837.810000</td>\n",
              "      <td>841.950000</td>\n",
              "      <td>827.010000</td>\n",
              "    </tr>\n",
              "  </tbody>\n",
              "</table>\n",
              "</div>\n",
              "      <button class=\"colab-df-convert\" onclick=\"convertToInteractive('df-2744f883-ee72-4aad-9f0a-7d1c5c70ec20')\"\n",
              "              title=\"Convert this dataframe to an interactive table.\"\n",
              "              style=\"display:none;\">\n",
              "        \n",
              "  <svg xmlns=\"http://www.w3.org/2000/svg\" height=\"24px\"viewBox=\"0 0 24 24\"\n",
              "       width=\"24px\">\n",
              "    <path d=\"M0 0h24v24H0V0z\" fill=\"none\"/>\n",
              "    <path d=\"M18.56 5.44l.94 2.06.94-2.06 2.06-.94-2.06-.94-.94-2.06-.94 2.06-2.06.94zm-11 1L8.5 8.5l.94-2.06 2.06-.94-2.06-.94L8.5 2.5l-.94 2.06-2.06.94zm10 10l.94 2.06.94-2.06 2.06-.94-2.06-.94-.94-2.06-.94 2.06-2.06.94z\"/><path d=\"M17.41 7.96l-1.37-1.37c-.4-.4-.92-.59-1.43-.59-.52 0-1.04.2-1.43.59L10.3 9.45l-7.72 7.72c-.78.78-.78 2.05 0 2.83L4 21.41c.39.39.9.59 1.41.59.51 0 1.02-.2 1.41-.59l7.78-7.78 2.81-2.81c.8-.78.8-2.07 0-2.86zM5.41 20L4 18.59l7.72-7.72 1.47 1.35L5.41 20z\"/>\n",
              "  </svg>\n",
              "      </button>\n",
              "      \n",
              "  <style>\n",
              "    .colab-df-container {\n",
              "      display:flex;\n",
              "      flex-wrap:wrap;\n",
              "      gap: 12px;\n",
              "    }\n",
              "\n",
              "    .colab-df-convert {\n",
              "      background-color: #E8F0FE;\n",
              "      border: none;\n",
              "      border-radius: 50%;\n",
              "      cursor: pointer;\n",
              "      display: none;\n",
              "      fill: #1967D2;\n",
              "      height: 32px;\n",
              "      padding: 0 0 0 0;\n",
              "      width: 32px;\n",
              "    }\n",
              "\n",
              "    .colab-df-convert:hover {\n",
              "      background-color: #E2EBFA;\n",
              "      box-shadow: 0px 1px 2px rgba(60, 64, 67, 0.3), 0px 1px 3px 1px rgba(60, 64, 67, 0.15);\n",
              "      fill: #174EA6;\n",
              "    }\n",
              "\n",
              "    [theme=dark] .colab-df-convert {\n",
              "      background-color: #3B4455;\n",
              "      fill: #D2E3FC;\n",
              "    }\n",
              "\n",
              "    [theme=dark] .colab-df-convert:hover {\n",
              "      background-color: #434B5C;\n",
              "      box-shadow: 0px 1px 3px 1px rgba(0, 0, 0, 0.15);\n",
              "      filter: drop-shadow(0px 1px 2px rgba(0, 0, 0, 0.3));\n",
              "      fill: #FFFFFF;\n",
              "    }\n",
              "  </style>\n",
              "\n",
              "      <script>\n",
              "        const buttonEl =\n",
              "          document.querySelector('#df-2744f883-ee72-4aad-9f0a-7d1c5c70ec20 button.colab-df-convert');\n",
              "        buttonEl.style.display =\n",
              "          google.colab.kernel.accessAllowed ? 'block' : 'none';\n",
              "\n",
              "        async function convertToInteractive(key) {\n",
              "          const element = document.querySelector('#df-2744f883-ee72-4aad-9f0a-7d1c5c70ec20');\n",
              "          const dataTable =\n",
              "            await google.colab.kernel.invokeFunction('convertToInteractive',\n",
              "                                                     [key], {});\n",
              "          if (!dataTable) return;\n",
              "\n",
              "          const docLinkHtml = 'Like what you see? Visit the ' +\n",
              "            '<a target=\"_blank\" href=https://colab.research.google.com/notebooks/data_table.ipynb>data table notebook</a>'\n",
              "            + ' to learn more about interactive tables.';\n",
              "          element.innerHTML = '';\n",
              "          dataTable['output_type'] = 'display_data';\n",
              "          await google.colab.output.renderOutput(dataTable, element);\n",
              "          const docLink = document.createElement('div');\n",
              "          docLink.innerHTML = docLinkHtml;\n",
              "          element.appendChild(docLink);\n",
              "        }\n",
              "      </script>\n",
              "    </div>\n",
              "  </div>\n",
              "  "
            ]
          },
          "metadata": {},
          "execution_count": 8
        }
      ]
    },
    {
      "cell_type": "code",
      "source": [
        "df.columns"
      ],
      "metadata": {
        "execution": {
          "iopub.status.busy": "2022-08-03T04:29:14.096787Z",
          "iopub.execute_input": "2022-08-03T04:29:14.097591Z",
          "iopub.status.idle": "2022-08-03T04:29:14.106129Z",
          "shell.execute_reply.started": "2022-08-03T04:29:14.097542Z",
          "shell.execute_reply": "2022-08-03T04:29:14.104777Z"
        },
        "trusted": true,
        "colab": {
          "base_uri": "https://localhost:8080/"
        },
        "id": "6R3OsIL4FsNO",
        "outputId": "cdae2bad-590d-43e1-c32d-56855fb6fc8b"
      },
      "execution_count": null,
      "outputs": [
        {
          "output_type": "execute_result",
          "data": {
            "text/plain": [
              "Index(['Date', 'Open', 'High', 'Low', 'Close', 'Volume'], dtype='object')"
            ]
          },
          "metadata": {},
          "execution_count": 9
        }
      ]
    },
    {
      "cell_type": "code",
      "source": [
        "df.shape"
      ],
      "metadata": {
        "execution": {
          "iopub.status.busy": "2022-08-03T04:29:18.512948Z",
          "iopub.execute_input": "2022-08-03T04:29:18.513379Z",
          "iopub.status.idle": "2022-08-03T04:29:18.520670Z",
          "shell.execute_reply.started": "2022-08-03T04:29:18.513335Z",
          "shell.execute_reply": "2022-08-03T04:29:18.519466Z"
        },
        "trusted": true,
        "colab": {
          "base_uri": "https://localhost:8080/"
        },
        "id": "S9eXCBK2FsNO",
        "outputId": "56ba65b5-0cf9-432d-eb9c-193a5a82717d"
      },
      "execution_count": null,
      "outputs": [
        {
          "output_type": "execute_result",
          "data": {
            "text/plain": [
              "(1278, 6)"
            ]
          },
          "metadata": {},
          "execution_count": 10
        }
      ]
    },
    {
      "cell_type": "code",
      "source": [
        "df.isnull().sum()"
      ],
      "metadata": {
        "execution": {
          "iopub.status.busy": "2022-08-03T04:29:20.408397Z",
          "iopub.execute_input": "2022-08-03T04:29:20.408797Z",
          "iopub.status.idle": "2022-08-03T04:29:20.419985Z",
          "shell.execute_reply.started": "2022-08-03T04:29:20.408765Z",
          "shell.execute_reply": "2022-08-03T04:29:20.418673Z"
        },
        "trusted": true,
        "colab": {
          "base_uri": "https://localhost:8080/"
        },
        "id": "Xe6kXACVFsNP",
        "outputId": "2d6ee495-3250-4cd4-8992-d848b2ecc34c"
      },
      "execution_count": null,
      "outputs": [
        {
          "output_type": "execute_result",
          "data": {
            "text/plain": [
              "Date      0\n",
              "Open      0\n",
              "High      0\n",
              "Low       0\n",
              "Close     0\n",
              "Volume    0\n",
              "dtype: int64"
            ]
          },
          "metadata": {},
          "execution_count": 11
        }
      ]
    },
    {
      "cell_type": "code",
      "source": [
        "df.dtypes"
      ],
      "metadata": {
        "execution": {
          "iopub.status.busy": "2022-08-03T04:29:22.480963Z",
          "iopub.execute_input": "2022-08-03T04:29:22.481352Z",
          "iopub.status.idle": "2022-08-03T04:29:22.490635Z",
          "shell.execute_reply.started": "2022-08-03T04:29:22.481322Z",
          "shell.execute_reply": "2022-08-03T04:29:22.489028Z"
        },
        "trusted": true,
        "colab": {
          "base_uri": "https://localhost:8080/"
        },
        "id": "yJsuqRmJFsNP",
        "outputId": "1a62488d-675a-471e-9cb6-d1b6877b7cb6"
      },
      "execution_count": null,
      "outputs": [
        {
          "output_type": "execute_result",
          "data": {
            "text/plain": [
              "Date       object\n",
              "Open      float64\n",
              "High      float64\n",
              "Low       float64\n",
              "Close      object\n",
              "Volume     object\n",
              "dtype: object"
            ]
          },
          "metadata": {},
          "execution_count": 12
        }
      ]
    },
    {
      "cell_type": "code",
      "source": [
        "df    = df.loc[:,[\"Open\"]].values\n",
        "train = df[:len(df)-50] \n",
        "test = df[len(train):] \n",
        "# reshape\n",
        "train = train.reshape(train.shape[0],1)\n"
      ],
      "metadata": {
        "execution": {
          "iopub.status.busy": "2022-08-03T04:30:36.464739Z",
          "iopub.execute_input": "2022-08-03T04:30:36.465546Z",
          "iopub.status.idle": "2022-08-03T04:30:36.473353Z",
          "shell.execute_reply.started": "2022-08-03T04:30:36.465505Z",
          "shell.execute_reply": "2022-08-03T04:30:36.471903Z"
        },
        "trusted": true,
        "id": "o5FowNEkFsNQ"
      },
      "execution_count": null,
      "outputs": []
    },
    {
      "cell_type": "code",
      "source": [
        "train.shape"
      ],
      "metadata": {
        "execution": {
          "iopub.status.busy": "2022-08-03T04:30:41.856775Z",
          "iopub.execute_input": "2022-08-03T04:30:41.857657Z",
          "iopub.status.idle": "2022-08-03T04:30:41.865947Z",
          "shell.execute_reply.started": "2022-08-03T04:30:41.857612Z",
          "shell.execute_reply": "2022-08-03T04:30:41.864468Z"
        },
        "trusted": true,
        "colab": {
          "base_uri": "https://localhost:8080/"
        },
        "id": "sth7L9vcFsNQ",
        "outputId": "b11a8254-9235-469a-97d2-499f5b002c49"
      },
      "execution_count": null,
      "outputs": [
        {
          "output_type": "execute_result",
          "data": {
            "text/plain": [
              "(1228, 1)"
            ]
          },
          "metadata": {},
          "execution_count": 14
        }
      ]
    },
    {
      "cell_type": "code",
      "source": [
        "plt.plot(train);\n",
        "plt.title(\"Opening prices for the data\");\n"
      ],
      "metadata": {
        "execution": {
          "iopub.status.busy": "2022-08-03T04:30:44.479443Z",
          "iopub.execute_input": "2022-08-03T04:30:44.480105Z",
          "iopub.status.idle": "2022-08-03T04:30:44.722715Z",
          "shell.execute_reply.started": "2022-08-03T04:30:44.480063Z",
          "shell.execute_reply": "2022-08-03T04:30:44.721343Z"
        },
        "trusted": true,
        "colab": {
          "base_uri": "https://localhost:8080/",
          "height": 452
        },
        "id": "4eej6HRWFsNR",
        "outputId": "d418b90a-2a2b-4be7-a187-8bd483867d2e"
      },
      "execution_count": null,
      "outputs": [
        {
          "output_type": "display_data",
          "data": {
            "text/plain": [
              "<Figure size 640x480 with 1 Axes>"
            ],
            "image/png": "[encoded data removed]"
          },
          "metadata": {}
        }
      ]
    },
    {
      "cell_type": "code",
      "source": [
        "from sklearn.preprocessing import MinMaxScaler\n",
        "scaler = MinMaxScaler(feature_range= (0,1)) # defining of Scaler\n",
        "train_scaled = scaler.fit_transform(train) # applying to Scaler to train\n",
        "\n",
        "plt.plot(train_scaled)\n",
        "plt.show()"
      ],
      "metadata": {
        "execution": {
          "iopub.status.busy": "2022-08-03T04:30:47.703683Z",
          "iopub.execute_input": "2022-08-03T04:30:47.704128Z",
          "iopub.status.idle": "2022-08-03T04:30:47.882170Z",
          "shell.execute_reply.started": "2022-08-03T04:30:47.704095Z",
          "shell.execute_reply": "2022-08-03T04:30:47.880910Z"
        },
        "trusted": true,
        "colab": {
          "base_uri": "https://localhost:8080/",
          "height": 430
        },
        "id": "ljNh579ZFsNS",
        "outputId": "94879aa0-1220-4445-9ea6-fd7946b52196"
      },
      "execution_count": null,
      "outputs": [
        {
          "output_type": "display_data",
          "data": {
            "text/plain": [
              "<Figure size 640x480 with 1 Axes>"
            ],
            "image/png": "[encoded data removed]"
          },
          "metadata": {}
        }
      ]
    },
    {
      "cell_type": "code",
      "source": [
        "# We add first 50 location to \"X_train\" and we 51. location to \"y_train\" .\n",
        "X_train = []\n",
        "y_train = []\n",
        "timesteps = 50\n",
        "\n",
        "for i in range(timesteps, train_scaled.shape[0]):\n",
        "    X_train.append(train_scaled[i-timesteps:i,0])\n",
        "    y_train.append(train_scaled[i,0])\n",
        "\n",
        "X_train, y_train = np.array(X_train), np.array(y_train)\n",
        "\n",
        "\n",
        "# Reshaping\n",
        "X_train = X_train.reshape(X_train.shape[0], X_train.shape[1], 1)  # Dimension of array is 3."
      ],
      "metadata": {
        "execution": {
          "iopub.status.busy": "2022-08-03T04:30:51.206363Z",
          "iopub.execute_input": "2022-08-03T04:30:51.206774Z",
          "iopub.status.idle": "2022-08-03T04:30:51.215578Z",
          "shell.execute_reply.started": "2022-08-03T04:30:51.206740Z",
          "shell.execute_reply": "2022-08-03T04:30:51.214414Z"
        },
        "trusted": true,
        "id": "6vC8tohhFsNS"
      },
      "execution_count": null,
      "outputs": []
    },
    {
      "cell_type": "code",
      "source": [
        "# --- RNN ---\n",
        "\n",
        "# Importing the Keras libraries and packages\n",
        "\n",
        "from keras.models import Sequential  \n",
        "from keras.layers import Dense \n",
        "from keras.layers import SimpleRNN\n",
        "from keras.layers import Dropout # it block to overfitting \n",
        "\n",
        "# Initialising the RNN\n",
        "regressor = Sequential()\n",
        "\n",
        "# Adding the first RNN layer and some Dropout regularisation\n",
        "regressor.add(SimpleRNN(units = 50,activation='tanh', return_sequences = True, input_shape = (X_train.shape[1], 1)))\n",
        "regressor.add(Dropout(0.2)) \n",
        "\n",
        "# Adding a second RNN layer and some Dropout regularisation.\n",
        "regressor.add(SimpleRNN(units = 50,activation='tanh', return_sequences = True))\n",
        "regressor.add(Dropout(0.2))\n",
        "\n",
        "# Adding a third RNN layer and some Dropout regularisation. \n",
        "regressor.add(SimpleRNN(units = 50,activation='tanh', return_sequences = True))\n",
        "regressor.add(Dropout(0.2))\n",
        "\n",
        "# Adding a fourth RNN layer and some Dropout regularisation.\n",
        "regressor.add(SimpleRNN(units = 50))\n",
        "regressor.add(Dropout(0.2))\n",
        "\n",
        "\n",
        "# Adding the output layer\n",
        "regressor.add(Dense(units = 1))\n",
        "\n",
        "# Compiling the RNN\n",
        "regressor.compile(optimizer = 'adam', loss = 'mean_squared_error')\n",
        "\n",
        "# Fitting the RNN to the Training set\n",
        "regressor.fit(X_train, y_train, epochs = 100, batch_size = 32)"
      ],
      "metadata": {
        "execution": {
          "iopub.status.busy": "2022-08-03T04:30:56.079762Z",
          "iopub.execute_input": "2022-08-03T04:30:56.080220Z",
          "iopub.status.idle": "2022-08-03T04:38:02.555179Z",
          "shell.execute_reply.started": "2022-08-03T04:30:56.080181Z",
          "shell.execute_reply": "2022-08-03T04:38:02.553904Z"
        },
        "trusted": true,
        "colab": {
          "base_uri": "https://localhost:8080/"
        },
        "id": "Jojkqdy8FsNT",
        "outputId": "5cbe777b-b637-486b-907e-87b3b5009b72"
      },
      "execution_count": null,
      "outputs": [
        {
          "output_type": "stream",
          "name": "stdout",
          "text": [
            "Epoch 1/100\n",
            "37/37 [==============================] - 4s 33ms/step - loss: 0.3600\n",
            "Epoch 2/100\n",
            "37/37 [==============================] - 1s 33ms/step - loss: 0.2610\n",
            "Epoch 3/100\n",
            "37/37 [==============================] - 1s 32ms/step - loss: 0.1818\n",
            "Epoch 4/100\n",
            "37/37 [==============================] - 2s 66ms/step - loss: 0.1351\n",
            "Epoch 5/100\n",
            "37/37 [==============================] - 1s 33ms/step - loss: 0.1089\n",
            "Epoch 6/100\n",
            "37/37 [==============================] - 1s 33ms/step - loss: 0.0929\n",
            "Epoch 7/100\n",
            "37/37 [==============================] - 1s 33ms/step - loss: 0.0807\n",
            "Epoch 8/100\n",
            "37/37 [==============================] - 1s 32ms/step - loss: 0.0651\n",
            "Epoch 9/100\n",
            "37/37 [==============================] - 1s 33ms/step - loss: 0.0523\n",
            "Epoch 10/100\n",
            "37/37 [==============================] - 1s 32ms/step - loss: 0.0428\n",
            "Epoch 11/100\n",
            "37/37 [==============================] - 2s 43ms/step - loss: 0.0433\n",
            "Epoch 12/100\n",
            "37/37 [==============================] - 2s 53ms/step - loss: 0.0361\n",
            "Epoch 13/100\n",
            "37/37 [==============================] - 3s 69ms/step - loss: 0.0310\n",
            "Epoch 14/100\n",
            "37/37 [==============================] - 2s 68ms/step - loss: 0.0311\n",
            "Epoch 15/100\n",
            "37/37 [==============================] - 2s 61ms/step - loss: 0.0268\n",
            "Epoch 16/100\n",
            "37/37 [==============================] - 2s 40ms/step - loss: 0.0207\n",
            "Epoch 17/100\n",
            "37/37 [==============================] - 1s 33ms/step - loss: 0.0203\n",
            "Epoch 18/100\n",
            "37/37 [==============================] - 1s 32ms/step - loss: 0.0185\n",
            "Epoch 19/100\n",
            "37/37 [==============================] - 2s 54ms/step - loss: 0.0165\n",
            "Epoch 20/100\n",
            "37/37 [==============================] - 1s 32ms/step - loss: 0.0160\n",
            "Epoch 21/100\n",
            "37/37 [==============================] - 1s 32ms/step - loss: 0.0166\n",
            "Epoch 22/100\n",
            "37/37 [==============================] - 1s 32ms/step - loss: 0.0136\n",
            "Epoch 23/100\n",
            "37/37 [==============================] - 1s 33ms/step - loss: 0.0121\n",
            "Epoch 24/100\n",
            "37/37 [==============================] - 1s 33ms/step - loss: 0.0116\n",
            "Epoch 25/100\n",
            "37/37 [==============================] - 1s 33ms/step - loss: 0.0104\n",
            "Epoch 26/100\n",
            "37/37 [==============================] - 1s 32ms/step - loss: 0.0105\n",
            "Epoch 27/100\n",
            "37/37 [==============================] - 1s 32ms/step - loss: 0.0091\n",
            "Epoch 28/100\n",
            "37/37 [==============================] - 2s 53ms/step - loss: 0.0079\n",
            "Epoch 29/100\n",
            "37/37 [==============================] - 1s 35ms/step - loss: 0.0083\n",
            "Epoch 30/100\n",
            "37/37 [==============================] - 1s 33ms/step - loss: 0.0081\n",
            "Epoch 31/100\n",
            "37/37 [==============================] - 1s 33ms/step - loss: 0.0070\n",
            "Epoch 32/100\n",
            "37/37 [==============================] - 1s 31ms/step - loss: 0.0068\n",
            "Epoch 33/100\n",
            "37/37 [==============================] - 1s 32ms/step - loss: 0.0068\n",
            "Epoch 34/100\n",
            "37/37 [==============================] - 1s 32ms/step - loss: 0.0060\n",
            "Epoch 35/100\n",
            "37/37 [==============================] - 1s 32ms/step - loss: 0.0066\n",
            "Epoch 36/100\n",
            "37/37 [==============================] - 1s 33ms/step - loss: 0.0058\n",
            "Epoch 37/100\n",
            "37/37 [==============================] - 2s 45ms/step - loss: 0.0055\n",
            "Epoch 38/100\n",
            "37/37 [==============================] - 2s 43ms/step - loss: 0.0055\n",
            "Epoch 39/100\n",
            "37/37 [==============================] - 1s 32ms/step - loss: 0.0049\n",
            "Epoch 40/100\n",
            "37/37 [==============================] - 1s 32ms/step - loss: 0.0052\n",
            "Epoch 41/100\n",
            "37/37 [==============================] - 1s 32ms/step - loss: 0.0045\n",
            "Epoch 42/100\n",
            "37/37 [==============================] - 1s 33ms/step - loss: 0.0049\n",
            "Epoch 43/100\n",
            "37/37 [==============================] - 1s 32ms/step - loss: 0.0043\n",
            "Epoch 44/100\n",
            "37/37 [==============================] - 1s 33ms/step - loss: 0.0042\n",
            "Epoch 45/100\n",
            "37/37 [==============================] - 1s 32ms/step - loss: 0.0038\n",
            "Epoch 46/100\n",
            "37/37 [==============================] - 1s 38ms/step - loss: 0.0042\n",
            "Epoch 47/100\n",
            "37/37 [==============================] - 2s 49ms/step - loss: 0.0039\n",
            "Epoch 48/100\n",
            "37/37 [==============================] - 1s 33ms/step - loss: 0.0037\n",
            "Epoch 49/100\n",
            "37/37 [==============================] - 1s 33ms/step - loss: 0.0036\n",
            "Epoch 50/100\n",
            "37/37 [==============================] - 1s 33ms/step - loss: 0.0038\n",
            "Epoch 51/100\n",
            "37/37 [==============================] - 1s 33ms/step - loss: 0.0035\n",
            "Epoch 52/100\n",
            "37/37 [==============================] - 1s 32ms/step - loss: 0.0032\n",
            "Epoch 53/100\n",
            "37/37 [==============================] - 1s 32ms/step - loss: 0.0030\n",
            "Epoch 54/100\n",
            "37/37 [==============================] - 1s 32ms/step - loss: 0.0033\n",
            "Epoch 55/100\n",
            "37/37 [==============================] - 1s 34ms/step - loss: 0.0031\n",
            "Epoch 56/100\n",
            "37/37 [==============================] - 2s 53ms/step - loss: 0.0029\n",
            "Epoch 57/100\n",
            "37/37 [==============================] - 1s 33ms/step - loss: 0.0029\n",
            "Epoch 58/100\n",
            "37/37 [==============================] - 1s 32ms/step - loss: 0.0030\n",
            "Epoch 59/100\n",
            "37/37 [==============================] - 1s 32ms/step - loss: 0.0028\n",
            "Epoch 60/100\n",
            "37/37 [==============================] - 1s 33ms/step - loss: 0.0027\n",
            "Epoch 61/100\n",
            "37/37 [==============================] - 1s 33ms/step - loss: 0.0027\n",
            "Epoch 62/100\n",
            "37/37 [==============================] - 1s 32ms/step - loss: 0.0029\n",
            "Epoch 63/100\n",
            "37/37 [==============================] - 1s 33ms/step - loss: 0.0026\n",
            "Epoch 64/100\n",
            "37/37 [==============================] - 1s 32ms/step - loss: 0.0028\n",
            "Epoch 65/100\n",
            "37/37 [==============================] - 2s 54ms/step - loss: 0.0024\n",
            "Epoch 66/100\n",
            "37/37 [==============================] - 1s 32ms/step - loss: 0.0028\n",
            "Epoch 67/100\n",
            "37/37 [==============================] - 1s 32ms/step - loss: 0.0023\n",
            "Epoch 68/100\n",
            "37/37 [==============================] - 1s 32ms/step - loss: 0.0023\n",
            "Epoch 69/100\n",
            "37/37 [==============================] - 1s 33ms/step - loss: 0.0026\n",
            "Epoch 70/100\n",
            "37/37 [==============================] - 1s 32ms/step - loss: 0.0023\n",
            "Epoch 71/100\n",
            "37/37 [==============================] - 1s 32ms/step - loss: 0.0022\n",
            "Epoch 72/100\n",
            "37/37 [==============================] - 1s 33ms/step - loss: 0.0023\n",
            "Epoch 73/100\n",
            "37/37 [==============================] - 1s 32ms/step - loss: 0.0022\n",
            "Epoch 74/100\n",
            "37/37 [==============================] - 2s 48ms/step - loss: 0.0020\n",
            "Epoch 75/100\n",
            "37/37 [==============================] - 1s 38ms/step - loss: 0.0022\n",
            "Epoch 76/100\n",
            "37/37 [==============================] - 1s 32ms/step - loss: 0.0021\n",
            "Epoch 77/100\n",
            "37/37 [==============================] - 1s 32ms/step - loss: 0.0021\n",
            "Epoch 78/100\n",
            "37/37 [==============================] - 1s 33ms/step - loss: 0.0020\n",
            "Epoch 79/100\n",
            "37/37 [==============================] - 1s 32ms/step - loss: 0.0020\n",
            "Epoch 80/100\n",
            "37/37 [==============================] - 1s 32ms/step - loss: 0.0020\n",
            "Epoch 81/100\n",
            "37/37 [==============================] - 1s 32ms/step - loss: 0.0020\n",
            "Epoch 82/100\n",
            "37/37 [==============================] - 1s 32ms/step - loss: 0.0021\n",
            "Epoch 83/100\n",
            "37/37 [==============================] - 2s 42ms/step - loss: 0.0017\n",
            "Epoch 84/100\n",
            "37/37 [==============================] - 2s 45ms/step - loss: 0.0019\n",
            "Epoch 85/100\n",
            "37/37 [==============================] - 1s 33ms/step - loss: 0.0017\n",
            "Epoch 86/100\n",
            "37/37 [==============================] - 1s 33ms/step - loss: 0.0018\n",
            "Epoch 87/100\n",
            "37/37 [==============================] - 1s 33ms/step - loss: 0.0020\n",
            "Epoch 88/100\n",
            "37/37 [==============================] - 1s 32ms/step - loss: 0.0019\n",
            "Epoch 89/100\n",
            "37/37 [==============================] - 1s 32ms/step - loss: 0.0017\n",
            "Epoch 90/100\n",
            "37/37 [==============================] - 1s 32ms/step - loss: 0.0017\n",
            "Epoch 91/100\n",
            "37/37 [==============================] - 1s 32ms/step - loss: 0.0017\n",
            "Epoch 92/100\n",
            "37/37 [==============================] - 1s 37ms/step - loss: 0.0017\n",
            "Epoch 93/100\n",
            "37/37 [==============================] - 2s 50ms/step - loss: 0.0016\n",
            "Epoch 94/100\n",
            "37/37 [==============================] - 1s 33ms/step - loss: 0.0018\n",
            "Epoch 95/100\n",
            "37/37 [==============================] - 1s 33ms/step - loss: 0.0015\n",
            "Epoch 96/100\n",
            "37/37 [==============================] - 1s 33ms/step - loss: 0.0018\n",
            "Epoch 97/100\n",
            "37/37 [==============================] - 1s 33ms/step - loss: 0.0016\n",
            "Epoch 98/100\n",
            "37/37 [==============================] - 1s 32ms/step - loss: 0.0015\n",
            "Epoch 99/100\n",
            "37/37 [==============================] - 1s 32ms/step - loss: 0.0016\n",
            "Epoch 100/100\n",
            "37/37 [==============================] - 1s 32ms/step - loss: 0.0015\n"
          ]
        },
        {
          "output_type": "execute_result",
          "data": {
            "text/plain": [
              "<keras.callbacks.History at 0x7f3bad4f46a0>"
            ]
          },
          "metadata": {},
          "execution_count": 18
        }
      ]
    },
    {
      "cell_type": "code",
      "source": [
        "inputs = df[len(df) - len(test) - timesteps:]\n",
        "inputs = scaler.transform(inputs)  # min max scaler"
      ],
      "metadata": {
        "execution": {
          "iopub.status.busy": "2022-08-03T04:38:05.903422Z",
          "iopub.execute_input": "2022-08-03T04:38:05.903872Z",
          "iopub.status.idle": "2022-08-03T04:38:05.910149Z",
          "shell.execute_reply.started": "2022-08-03T04:38:05.903809Z",
          "shell.execute_reply": "2022-08-03T04:38:05.908900Z"
        },
        "trusted": true,
        "id": "u2Vg3bTZFsNU"
      },
      "execution_count": null,
      "outputs": []
    },
    {
      "cell_type": "code",
      "source": [
        "X_test = []\n",
        "for i in range(timesteps, inputs.shape[0]):\n",
        "    X_test.append(inputs[i-timesteps:i, 0])  \n",
        "X_test = np.array(X_test)\n",
        "X_test = X_test.reshape(X_test.shape[0], X_test.shape[1], 1)"
      ],
      "metadata": {
        "execution": {
          "iopub.status.busy": "2022-08-03T04:38:08.988833Z",
          "iopub.execute_input": "2022-08-03T04:38:08.989224Z",
          "iopub.status.idle": "2022-08-03T04:38:08.995735Z",
          "shell.execute_reply.started": "2022-08-03T04:38:08.989191Z",
          "shell.execute_reply": "2022-08-03T04:38:08.994837Z"
        },
        "trusted": true,
        "id": "QGwTv-a-FsNU"
      },
      "execution_count": null,
      "outputs": []
    },
    {
      "cell_type": "code",
      "source": [
        "predicted_data = regressor.predict(X_test)\n",
        "predicted_data = scaler.inverse_transform(predicted_data)"
      ],
      "metadata": {
        "execution": {
          "iopub.status.busy": "2022-08-03T04:38:11.997006Z",
          "iopub.execute_input": "2022-08-03T04:38:11.997393Z",
          "iopub.status.idle": "2022-08-03T04:38:12.755908Z",
          "shell.execute_reply.started": "2022-08-03T04:38:11.997363Z",
          "shell.execute_reply": "2022-08-03T04:38:12.754882Z"
        },
        "trusted": true,
        "colab": {
          "base_uri": "https://localhost:8080/"
        },
        "id": "qjxy2I_KFsNV",
        "outputId": "0340540e-db5b-4b68-eb09-f494aa7f5f53"
      },
      "execution_count": null,
      "outputs": [
        {
          "output_type": "stream",
          "name": "stdout",
          "text": [
            "2/2 [==============================] - 0s 12ms/step\n"
          ]
        }
      ]
    },
    {
      "cell_type": "code",
      "source": [
        "plt.figure(figsize=(8,4), dpi=80, facecolor='w', edgecolor='k')\n",
        "plt.plot(test,color=\"orange\",label=\"Real value\")\n",
        "plt.plot(predicted_data,color=\"c\",label=\"RNN predicted result\")\n",
        "plt.legend()\n",
        "plt.xlabel(\"Days\")\n",
        "plt.ylabel(\"Values\")\n",
        "plt.grid(True)\n",
        "plt.show()"
      ],
      "metadata": {
        "execution": {
          "iopub.status.busy": "2022-08-03T04:38:14.885129Z",
          "iopub.execute_input": "2022-08-03T04:38:14.885513Z",
          "iopub.status.idle": "2022-08-03T04:38:15.111181Z",
          "shell.execute_reply.started": "2022-08-03T04:38:14.885481Z",
          "shell.execute_reply": "2022-08-03T04:38:15.109788Z"
        },
        "trusted": true,
        "colab": {
          "base_uri": "https://localhost:8080/",
          "height": 314
        },
        "id": "eyPjylurFsNV",
        "outputId": "8636a3c6-b24d-4451-b717-f4c1b717d184"
      },
      "execution_count": null,
      "outputs": [
        {
          "output_type": "display_data",
          "data": {
            "text/plain": [
              "<Figure size 640x320 with 1 Axes>"
            ],
            "image/png": "[encoded data removed]"
          },
          "metadata": {}
        }
      ]
    },
    {
      "cell_type": "code",
      "source": [],
      "metadata": {
        "id": "D9BrNLIcG49_"
      },
      "execution_count": null,
      "outputs": []
    }
  ]
}