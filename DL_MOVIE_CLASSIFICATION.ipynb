{
  "nbformat": 4,
  "nbformat_minor": 0,
  "metadata": {
    "colab": {
      "provenance": [],
      "gpuType": "T4"
    },
    "kernelspec": {
      "name": "python3",
      "display_name": "Python 3"
    },
    "language_info": {
      "name": "python"
    },
    "accelerator": "GPU",
    "gpuClass": "standard"
  },
  "cells": [
    {
      "cell_type": "code",
      "source": [
        "import numpy as np\n",
        "import tensorflow as tf\n",
        "from tensorflow import keras\n",
        "import pandas as pd\n",
        "from tensorflow.keras.datasets import imdb\n",
        "from tensorflow.keras.preprocessing.sequence import pad_sequences\n"
      ],
      "metadata": {
        "id": "iIBbZTygrCuR"
      },
      "execution_count": 1,
      "outputs": []
    },
    {
      "cell_type": "code",
      "source": [
        "# Load the IMDB dataset\n",
        "max_features = 10000  # Consider only the top 10,000 most common words in the dataset\n",
        "(x_train, y_train), (x_test, y_test) = imdb.load_data(num_words=max_features)"
      ],
      "metadata": {
        "id": "8NbNeq4urMtO",
        "colab": {
          "base_uri": "https://localhost:8080/"
        },
        "outputId": "d5659f8e-3af5-4f7e-8ccd-5bf69e8f4488"
      },
      "execution_count": 2,
      "outputs": [
        {
          "output_type": "stream",
          "name": "stdout",
          "text": [
            "Downloading data from https://storage.googleapis.com/tensorflow/tf-keras-datasets/imdb.npz\n",
            "17464789/17464789 [==============================] - 0s 0us/step\n"
          ]
        }
      ]
    },
    {
      "cell_type": "code",
      "source": [
        "# Preprocess the data\n",
        "max_len = 500  # Maximum length of each review\n",
        "x_train = pad_sequences(x_train, maxlen=max_len)\n",
        "x_test = pad_sequences(x_test, maxlen=max_len)"
      ],
      "metadata": {
        "id": "US6N5q8Esgws"
      },
      "execution_count": 3,
      "outputs": []
    },
    {
      "cell_type": "code",
      "source": [
        "# Define the model architecture\n",
        "model = keras.Sequential()\n",
        "model.add(keras.layers.Embedding(max_features, 32, input_length=max_len))\n",
        "model.add(keras.layers.Dropout(0.2))\n",
        "model.add(keras.layers.Conv1D(64, 5, activation='relu'))\n",
        "model.add(keras.layers.GlobalMaxPooling1D())\n",
        "model.add(keras.layers.Dense(1, activation='sigmoid'))"
      ],
      "metadata": {
        "id": "HzhtzKvTshZZ"
      },
      "execution_count": 4,
      "outputs": []
    },
    {
      "cell_type": "code",
      "source": [
        "# Compile the model\n",
        "model.compile(optimizer='adam', loss='binary_crossentropy', metrics=['accuracy'])"
      ],
      "metadata": {
        "id": "OPlWJ9LSsogN"
      },
      "execution_count": 5,
      "outputs": []
    },
    {
      "cell_type": "code",
      "source": [
        "# Train the model\n",
        "model.fit(x_train, y_train, epochs=5, batch_size=64, validation_data=(x_test, y_test))"
      ],
      "metadata": {
        "colab": {
          "base_uri": "https://localhost:8080/"
        },
        "id": "-mDCsXovsv2s",
        "outputId": "2ec9ea22-9334-490e-81b0-f14e91c8e665"
      },
      "execution_count": 6,
      "outputs": [
        {
          "output_type": "stream",
          "name": "stdout",
          "text": [
            "Epoch 1/5\n",
            "391/391 [==============================] - 68s 148ms/step - loss: 0.5284 - accuracy: 0.7266 - val_loss: 0.3688 - val_accuracy: 0.8398\n",
            "Epoch 2/5\n",
            "391/391 [==============================] - 34s 85ms/step - loss: 0.3021 - accuracy: 0.8755 - val_loss: 0.2946 - val_accuracy: 0.8787\n",
            "Epoch 3/5\n",
            "391/391 [==============================] - 20s 51ms/step - loss: 0.2143 - accuracy: 0.9174 - val_loss: 0.2896 - val_accuracy: 0.8779\n",
            "Epoch 4/5\n",
            "391/391 [==============================] - 13s 34ms/step - loss: 0.1575 - accuracy: 0.9436 - val_loss: 0.2979 - val_accuracy: 0.8784\n",
            "Epoch 5/5\n",
            "391/391 [==============================] - 10s 25ms/step - loss: 0.1142 - accuracy: 0.9616 - val_loss: 0.3175 - val_accuracy: 0.8764\n"
          ]
        },
        {
          "output_type": "execute_result",
          "data": {
            "text/plain": [
              "<keras.callbacks.History at 0x7f0cd6f1dae0>"
            ]
          },
          "metadata": {},
          "execution_count": 6
        }
      ]
    },
    {
      "cell_type": "code",
      "source": [
        "# Evaluate the model\n",
        "loss, accuracy = model.evaluate(x_test, y_test)\n",
        "print(\"Test Loss:\", loss)\n",
        "print(\"Test Accuracy:\", accuracy)"
      ],
      "metadata": {
        "colab": {
          "base_uri": "https://localhost:8080/"
        },
        "id": "GYW9M4iNtOpU",
        "outputId": "4dd59d6e-374d-4613-bf4d-93b2fa64a32a"
      },
      "execution_count": 7,
      "outputs": [
        {
          "output_type": "stream",
          "name": "stdout",
          "text": [
            "782/782 [==============================] - 2s 3ms/step - loss: 0.3175 - accuracy: 0.8764\n",
            "Test Loss: 0.317460298538208\n",
            "Test Accuracy: 0.8763999938964844\n"
          ]
        }
      ]
    },
    {
      "cell_type": "code",
      "source": [
        "# Making Predictions for testing data\n",
        "np.set_printoptions(suppress=True)\n",
        "result = model.predict(x_test)"
      ],
      "metadata": {
        "id": "2ylmMYYft5cs",
        "colab": {
          "base_uri": "https://localhost:8080/"
        },
        "outputId": "84a6f3b1-8d6b-4b04-9c19-646d77923fea"
      },
      "execution_count": 8,
      "outputs": [
        {
          "output_type": "stream",
          "name": "stdout",
          "text": [
            "782/782 [==============================] - 1s 2ms/step\n"
          ]
        }
      ]
    },
    {
      "cell_type": "code",
      "source": [
        "result"
      ],
      "metadata": {
        "colab": {
          "base_uri": "https://localhost:8080/"
        },
        "id": "nbKunWjRzCuD",
        "outputId": "8e674262-eacd-41e9-8534-4d68bd84839c"
      },
      "execution_count": 9,
      "outputs": [
        {
          "output_type": "execute_result",
          "data": {
            "text/plain": [
              "array([[0.00477739],\n",
              "       [0.9829747 ],\n",
              "       [0.8253482 ],\n",
              "       ...,\n",
              "       [0.05884642],\n",
              "       [0.28146031],\n",
              "       [0.9926024 ]], dtype=float32)"
            ]
          },
          "metadata": {},
          "execution_count": 9
        }
      ]
    },
    {
      "cell_type": "code",
      "source": [
        "y_pred = np.zeros(len(result))\n",
        "for i, score in enumerate(result):\n",
        "    y_pred[i] = np.round(score)"
      ],
      "metadata": {
        "id": "8KQWpDYTzHQ2"
      },
      "execution_count": 10,
      "outputs": []
    },
    {
      "cell_type": "code",
      "source": [
        "print(y_pred[10])"
      ],
      "metadata": {
        "colab": {
          "base_uri": "https://localhost:8080/"
        },
        "id": "vuMCbqGazMfb",
        "outputId": "4a90aeb6-7013-4a92-f802-4ec2ce415a4f"
      },
      "execution_count": 11,
      "outputs": [
        {
          "output_type": "stream",
          "name": "stdout",
          "text": [
            "1.0\n"
          ]
        }
      ]
    },
    {
      "cell_type": "code",
      "source": [
        "print(y_test[10])"
      ],
      "metadata": {
        "colab": {
          "base_uri": "https://localhost:8080/"
        },
        "id": "YI7cyem1zQOm",
        "outputId": "93399908-ca64-401b-8173-6d5ef8e19ceb"
      },
      "execution_count": 12,
      "outputs": [
        {
          "output_type": "stream",
          "name": "stdout",
          "text": [
            "1\n"
          ]
        }
      ]
    },
    {
      "cell_type": "code",
      "source": [],
      "metadata": {
        "id": "I4anxCIwzXj-"
      },
      "execution_count": null,
      "outputs": []
    }
  ]
}