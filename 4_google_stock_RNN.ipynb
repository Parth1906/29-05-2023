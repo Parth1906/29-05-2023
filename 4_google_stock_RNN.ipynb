{
  "metadata": {
    "kernelspec": {
      "language": "python",
      "display_name": "Python 3",
      "name": "python3"
    },
    "language_info": {
      "name": "python",
      "version": "3.7.12",
      "mimetype": "text/x-python",
      "codemirror_mode": {
        "name": "ipython",
        "version": 3
      },
      "pygments_lexer": "ipython3",
      "nbconvert_exporter": "python",
      "file_extension": ".py"
    },
    "colab": {
      "provenance": []
    }
  },
  "nbformat_minor": 0,
  "nbformat": 4,
  "cells": [
    {
      "cell_type": "code",
      "source": [
        "import numpy as np # linear algebra\n",
        "import pandas as pd # data processing, CSV file I/O (e.g. pd.read_csv)\n",
        "import matplotlib.pyplot as plt\n",
        "from tensorflow.keras.models import Sequential\n",
        "from tensorflow.keras.layers import Dense, Dropout,LSTM\n",
        "import numpy as np\n",
        "from sklearn.preprocessing import MinMaxScaler\n",
        "import math\n",
        "from sklearn.metrics import mean_squared_error\n",
        "# from kerastuner.engine.hyperparameters import HyperParameters\n",
        "from tensorflow import keras\n",
        "from tensorflow.keras import layers\n",
        "# from kerastuner.tuners import RandomSearch"
      ],
      "metadata": {
        "execution": {
          "iopub.status.busy": "2022-08-03T04:22:04.492570Z",
          "iopub.execute_input": "2022-08-03T04:22:04.493402Z",
          "iopub.status.idle": "2022-08-03T04:22:12.763959Z",
          "shell.execute_reply.started": "2022-08-03T04:22:04.493297Z",
          "shell.execute_reply": "2022-08-03T04:22:12.762592Z"
        },
        "trusted": true,
        "id": "uk8IAuS_FsNH"
      },
      "execution_count": 1,
      "outputs": []
    },
    {
      "cell_type": "code",
      "source": [
        "df_test = pd.read_csv('/content/Google_Stock_Price_Test.csv')\n",
        "df_train = pd.read_csv('/content/Google_Stock_Price_Train.csv')\n",
        "df = pd.concat([df_test,df_train])"
      ],
      "metadata": {
        "execution": {
          "iopub.status.busy": "2022-08-03T04:22:12.766405Z",
          "iopub.execute_input": "2022-08-03T04:22:12.767521Z",
          "iopub.status.idle": "2022-08-03T04:22:12.806799Z",
          "shell.execute_reply.started": "2022-08-03T04:22:12.767470Z",
          "shell.execute_reply": "2022-08-03T04:22:12.805889Z"
        },
        "trusted": true,
        "id": "VSNeSLfpFsNL"
      },
      "execution_count": 2,
      "outputs": []
    },
    {
      "cell_type": "code",
      "source": [
        "df.head()"
      ],
      "metadata": {
        "execution": {
          "iopub.status.busy": "2022-08-03T04:29:03.958985Z",
          "iopub.execute_input": "2022-08-03T04:29:03.959440Z",
          "iopub.status.idle": "2022-08-03T04:29:03.979595Z",
          "shell.execute_reply.started": "2022-08-03T04:29:03.959407Z",
          "shell.execute_reply": "2022-08-03T04:29:03.978133Z"
        },
        "trusted": true,
        "colab": {
          "base_uri": "https://localhost:8080/",
          "height": 206
        },
        "id": "xDz0LRlwFsNM",
        "outputId": "3bc34647-0909-4ff4-c99b-4d5bb8215eb6"
      },
      "execution_count": 3,
      "outputs": [
        {
          "output_type": "execute_result",
          "data": {
            "text/plain": [
              "         Date         Open         High          Low        Close   Volume\n",
              "0  02/01/2018  1048.339966  1066.939941  1045.229980       1065.0  1237600\n",
              "1  03/01/2018  1064.310059  1086.290039  1063.209961   1082.47998  1430200\n",
              "2  04/01/2018  1088.000000  1093.569946  1084.001953  1086.400024  1004600\n",
              "3  05/01/2018  1094.000000  1104.250000  1092.000000   1102.22998  1279100\n",
              "4  08/01/2018  1102.229980  1111.270020  1101.619995  1106.939941  1047600"
            ],
            "text/html": [
              "\n",
              "  <div id=\"df-690960fb-15df-4ef9-bc56-3f97ae51014c\">\n",
              "    <div class=\"colab-df-container\">\n",
              "      <div>\n",
              "<style scoped>\n",
              "    .dataframe tbody tr th:only-of-type {\n",
              "        vertical-align: middle;\n",
              "    }\n",
              "\n",
              "    .dataframe tbody tr th {\n",
              "        vertical-align: top;\n",
              "    }\n",
              "\n",
              "    .dataframe thead th {\n",
              "        text-align: right;\n",
              "    }\n",
              "</style>\n",
              "<table border=\"1\" class=\"dataframe\">\n",
              "  <thead>\n",
              "    <tr style=\"text-align: right;\">\n",
              "      <th></th>\n",
              "      <th>Date</th>\n",
              "      <th>Open</th>\n",
              "      <th>High</th>\n",
              "      <th>Low</th>\n",
              "      <th>Close</th>\n",
              "      <th>Volume</th>\n",
              "    </tr>\n",
              "  </thead>\n",
              "  <tbody>\n",
              "    <tr>\n",
              "      <th>0</th>\n",
              "      <td>02/01/2018</td>\n",
              "      <td>1048.339966</td>\n",
              "      <td>1066.939941</td>\n",
              "      <td>1045.229980</td>\n",
              "      <td>1065.0</td>\n",
              "      <td>1237600</td>\n",
              "    </tr>\n",
              "    <tr>\n",
              "      <th>1</th>\n",
              "      <td>03/01/2018</td>\n",
              "      <td>1064.310059</td>\n",
              "      <td>1086.290039</td>\n",
              "      <td>1063.209961</td>\n",
              "      <td>1082.47998</td>\n",
              "      <td>1430200</td>\n",
              "    </tr>\n",
              "    <tr>\n",
              "      <th>2</th>\n",
              "      <td>04/01/2018</td>\n",
              "      <td>1088.000000</td>\n",
              "      <td>1093.569946</td>\n",
              "      <td>1084.001953</td>\n",
              "      <td>1086.400024</td>\n",
              "      <td>1004600</td>\n",
              "    </tr>\n",
              "    <tr>\n",
              "      <th>3</th>\n",
              "      <td>05/01/2018</td>\n",
              "      <td>1094.000000</td>\n",
              "      <td>1104.250000</td>\n",
              "      <td>1092.000000</td>\n",
              "      <td>1102.22998</td>\n",
              "      <td>1279100</td>\n",
              "    </tr>\n",
              "    <tr>\n",
              "      <th>4</th>\n",
              "      <td>08/01/2018</td>\n",
              "      <td>1102.229980</td>\n",
              "      <td>1111.270020</td>\n",
              "      <td>1101.619995</td>\n",
              "      <td>1106.939941</td>\n",
              "      <td>1047600</td>\n",
              "    </tr>\n",
              "  </tbody>\n",
              "</table>\n",
              "</div>\n",
              "      <button class=\"colab-df-convert\" onclick=\"convertToInteractive('df-690960fb-15df-4ef9-bc56-3f97ae51014c')\"\n",
              "              title=\"Convert this dataframe to an interactive table.\"\n",
              "              style=\"display:none;\">\n",
              "        \n",
              "  <svg xmlns=\"http://www.w3.org/2000/svg\" height=\"24px\"viewBox=\"0 0 24 24\"\n",
              "       width=\"24px\">\n",
              "    <path d=\"M0 0h24v24H0V0z\" fill=\"none\"/>\n",
              "    <path d=\"M18.56 5.44l.94 2.06.94-2.06 2.06-.94-2.06-.94-.94-2.06-.94 2.06-2.06.94zm-11 1L8.5 8.5l.94-2.06 2.06-.94-2.06-.94L8.5 2.5l-.94 2.06-2.06.94zm10 10l.94 2.06.94-2.06 2.06-.94-2.06-.94-.94-2.06-.94 2.06-2.06.94z\"/><path d=\"M17.41 7.96l-1.37-1.37c-.4-.4-.92-.59-1.43-.59-.52 0-1.04.2-1.43.59L10.3 9.45l-7.72 7.72c-.78.78-.78 2.05 0 2.83L4 21.41c.39.39.9.59 1.41.59.51 0 1.02-.2 1.41-.59l7.78-7.78 2.81-2.81c.8-.78.8-2.07 0-2.86zM5.41 20L4 18.59l7.72-7.72 1.47 1.35L5.41 20z\"/>\n",
              "  </svg>\n",
              "      </button>\n",
              "      \n",
              "  <style>\n",
              "    .colab-df-container {\n",
              "      display:flex;\n",
              "      flex-wrap:wrap;\n",
              "      gap: 12px;\n",
              "    }\n",
              "\n",
              "    .colab-df-convert {\n",
              "      background-color: #E8F0FE;\n",
              "      border: none;\n",
              "      border-radius: 50%;\n",
              "      cursor: pointer;\n",
              "      display: none;\n",
              "      fill: #1967D2;\n",
              "      height: 32px;\n",
              "      padding: 0 0 0 0;\n",
              "      width: 32px;\n",
              "    }\n",
              "\n",
              "    .colab-df-convert:hover {\n",
              "      background-color: #E2EBFA;\n",
              "      box-shadow: 0px 1px 2px rgba(60, 64, 67, 0.3), 0px 1px 3px 1px rgba(60, 64, 67, 0.15);\n",
              "      fill: #174EA6;\n",
              "    }\n",
              "\n",
              "    [theme=dark] .colab-df-convert {\n",
              "      background-color: #3B4455;\n",
              "      fill: #D2E3FC;\n",
              "    }\n",
              "\n",
              "    [theme=dark] .colab-df-convert:hover {\n",
              "      background-color: #434B5C;\n",
              "      box-shadow: 0px 1px 3px 1px rgba(0, 0, 0, 0.15);\n",
              "      filter: drop-shadow(0px 1px 2px rgba(0, 0, 0, 0.3));\n",
              "      fill: #FFFFFF;\n",
              "    }\n",
              "  </style>\n",
              "\n",
              "      <script>\n",
              "        const buttonEl =\n",
              "          document.querySelector('#df-690960fb-15df-4ef9-bc56-3f97ae51014c button.colab-df-convert');\n",
              "        buttonEl.style.display =\n",
              "          google.colab.kernel.accessAllowed ? 'block' : 'none';\n",
              "\n",
              "        async function convertToInteractive(key) {\n",
              "          const element = document.querySelector('#df-690960fb-15df-4ef9-bc56-3f97ae51014c');\n",
              "          const dataTable =\n",
              "            await google.colab.kernel.invokeFunction('convertToInteractive',\n",
              "                                                     [key], {});\n",
              "          if (!dataTable) return;\n",
              "\n",
              "          const docLinkHtml = 'Like what you see? Visit the ' +\n",
              "            '<a target=\"_blank\" href=https://colab.research.google.com/notebooks/data_table.ipynb>data table notebook</a>'\n",
              "            + ' to learn more about interactive tables.';\n",
              "          element.innerHTML = '';\n",
              "          dataTable['output_type'] = 'display_data';\n",
              "          await google.colab.output.renderOutput(dataTable, element);\n",
              "          const docLink = document.createElement('div');\n",
              "          docLink.innerHTML = docLinkHtml;\n",
              "          element.appendChild(docLink);\n",
              "        }\n",
              "      </script>\n",
              "    </div>\n",
              "  </div>\n",
              "  "
            ]
          },
          "metadata": {},
          "execution_count": 3
        }
      ]
    },
    {
      "cell_type": "code",
      "source": [
        "df.info()"
      ],
      "metadata": {
        "execution": {
          "iopub.status.busy": "2022-08-03T04:29:06.330671Z",
          "iopub.execute_input": "2022-08-03T04:29:06.331220Z",
          "iopub.status.idle": "2022-08-03T04:29:06.360161Z",
          "shell.execute_reply.started": "2022-08-03T04:29:06.331171Z",
          "shell.execute_reply": "2022-08-03T04:29:06.359118Z"
        },
        "trusted": true,
        "colab": {
          "base_uri": "https://localhost:8080/"
        },
        "id": "lcdODyOnFsNN",
        "outputId": "8fb93edf-89f1-4d21-e24f-1e62f6ba70da"
      },
      "execution_count": 4,
      "outputs": [
        {
          "output_type": "stream",
          "name": "stdout",
          "text": [
            "<class 'pandas.core.frame.DataFrame'>\n",
            "Int64Index: 1634 entries, 0 to 1508\n",
            "Data columns (total 6 columns):\n",
            " #   Column  Non-Null Count  Dtype  \n",
            "---  ------  --------------  -----  \n",
            " 0   Date    1634 non-null   object \n",
            " 1   Open    1634 non-null   float64\n",
            " 2   High    1634 non-null   float64\n",
            " 3   Low     1634 non-null   float64\n",
            " 4   Close   1634 non-null   object \n",
            " 5   Volume  1634 non-null   object \n",
            "dtypes: float64(3), object(3)\n",
            "memory usage: 89.4+ KB\n"
          ]
        }
      ]
    },
    {
      "cell_type": "code",
      "source": [
        "df.describe()"
      ],
      "metadata": {
        "execution": {
          "iopub.status.busy": "2022-08-03T04:29:11.187041Z",
          "iopub.execute_input": "2022-08-03T04:29:11.187589Z",
          "iopub.status.idle": "2022-08-03T04:29:11.214047Z",
          "shell.execute_reply.started": "2022-08-03T04:29:11.187542Z",
          "shell.execute_reply": "2022-08-03T04:29:11.213077Z"
        },
        "trusted": true,
        "colab": {
          "base_uri": "https://localhost:8080/",
          "height": 300
        },
        "id": "8Xh4YvazFsNN",
        "outputId": "8c8c48a0-a99f-45f3-d5ad-fda880d7d392"
      },
      "execution_count": 5,
      "outputs": [
        {
          "output_type": "execute_result",
          "data": {
            "text/plain": [
              "              Open         High          Low\n",
              "count  1634.000000  1634.000000  1634.000000\n",
              "mean    635.900458   640.888439   630.533293\n",
              "std     235.149366   237.123571   233.300180\n",
              "min     279.120000   281.210000   277.220000\n",
              "25%     442.382500   446.045000   439.920000\n",
              "50%     578.415000   581.830000   572.880000\n",
              "75%     782.747500   788.937500   778.352500\n",
              "max    1177.329956  1186.890015  1171.979980"
            ],
            "text/html": [
              "\n",
              "  <div id=\"df-0433f57b-6e5f-4be2-9c48-2d040fc2d7f5\">\n",
              "    <div class=\"colab-df-container\">\n",
              "      <div>\n",
              "<style scoped>\n",
              "    .dataframe tbody tr th:only-of-type {\n",
              "        vertical-align: middle;\n",
              "    }\n",
              "\n",
              "    .dataframe tbody tr th {\n",
              "        vertical-align: top;\n",
              "    }\n",
              "\n",
              "    .dataframe thead th {\n",
              "        text-align: right;\n",
              "    }\n",
              "</style>\n",
              "<table border=\"1\" class=\"dataframe\">\n",
              "  <thead>\n",
              "    <tr style=\"text-align: right;\">\n",
              "      <th></th>\n",
              "      <th>Open</th>\n",
              "      <th>High</th>\n",
              "      <th>Low</th>\n",
              "    </tr>\n",
              "  </thead>\n",
              "  <tbody>\n",
              "    <tr>\n",
              "      <th>count</th>\n",
              "      <td>1634.000000</td>\n",
              "      <td>1634.000000</td>\n",
              "      <td>1634.000000</td>\n",
              "    </tr>\n",
              "    <tr>\n",
              "      <th>mean</th>\n",
              "      <td>635.900458</td>\n",
              "      <td>640.888439</td>\n",
              "      <td>630.533293</td>\n",
              "    </tr>\n",
              "    <tr>\n",
              "      <th>std</th>\n",
              "      <td>235.149366</td>\n",
              "      <td>237.123571</td>\n",
              "      <td>233.300180</td>\n",
              "    </tr>\n",
              "    <tr>\n",
              "      <th>min</th>\n",
              "      <td>279.120000</td>\n",
              "      <td>281.210000</td>\n",
              "      <td>277.220000</td>\n",
              "    </tr>\n",
              "    <tr>\n",
              "      <th>25%</th>\n",
              "      <td>442.382500</td>\n",
              "      <td>446.045000</td>\n",
              "      <td>439.920000</td>\n",
              "    </tr>\n",
              "    <tr>\n",
              "      <th>50%</th>\n",
              "      <td>578.415000</td>\n",
              "      <td>581.830000</td>\n",
              "      <td>572.880000</td>\n",
              "    </tr>\n",
              "    <tr>\n",
              "      <th>75%</th>\n",
              "      <td>782.747500</td>\n",
              "      <td>788.937500</td>\n",
              "      <td>778.352500</td>\n",
              "    </tr>\n",
              "    <tr>\n",
              "      <th>max</th>\n",
              "      <td>1177.329956</td>\n",
              "      <td>1186.890015</td>\n",
              "      <td>1171.979980</td>\n",
              "    </tr>\n",
              "  </tbody>\n",
              "</table>\n",
              "</div>\n",
              "      <button class=\"colab-df-convert\" onclick=\"convertToInteractive('df-0433f57b-6e5f-4be2-9c48-2d040fc2d7f5')\"\n",
              "              title=\"Convert this dataframe to an interactive table.\"\n",
              "              style=\"display:none;\">\n",
              "        \n",
              "  <svg xmlns=\"http://www.w3.org/2000/svg\" height=\"24px\"viewBox=\"0 0 24 24\"\n",
              "       width=\"24px\">\n",
              "    <path d=\"M0 0h24v24H0V0z\" fill=\"none\"/>\n",
              "    <path d=\"M18.56 5.44l.94 2.06.94-2.06 2.06-.94-2.06-.94-.94-2.06-.94 2.06-2.06.94zm-11 1L8.5 8.5l.94-2.06 2.06-.94-2.06-.94L8.5 2.5l-.94 2.06-2.06.94zm10 10l.94 2.06.94-2.06 2.06-.94-2.06-.94-.94-2.06-.94 2.06-2.06.94z\"/><path d=\"M17.41 7.96l-1.37-1.37c-.4-.4-.92-.59-1.43-.59-.52 0-1.04.2-1.43.59L10.3 9.45l-7.72 7.72c-.78.78-.78 2.05 0 2.83L4 21.41c.39.39.9.59 1.41.59.51 0 1.02-.2 1.41-.59l7.78-7.78 2.81-2.81c.8-.78.8-2.07 0-2.86zM5.41 20L4 18.59l7.72-7.72 1.47 1.35L5.41 20z\"/>\n",
              "  </svg>\n",
              "      </button>\n",
              "      \n",
              "  <style>\n",
              "    .colab-df-container {\n",
              "      display:flex;\n",
              "      flex-wrap:wrap;\n",
              "      gap: 12px;\n",
              "    }\n",
              "\n",
              "    .colab-df-convert {\n",
              "      background-color: #E8F0FE;\n",
              "      border: none;\n",
              "      border-radius: 50%;\n",
              "      cursor: pointer;\n",
              "      display: none;\n",
              "      fill: #1967D2;\n",
              "      height: 32px;\n",
              "      padding: 0 0 0 0;\n",
              "      width: 32px;\n",
              "    }\n",
              "\n",
              "    .colab-df-convert:hover {\n",
              "      background-color: #E2EBFA;\n",
              "      box-shadow: 0px 1px 2px rgba(60, 64, 67, 0.3), 0px 1px 3px 1px rgba(60, 64, 67, 0.15);\n",
              "      fill: #174EA6;\n",
              "    }\n",
              "\n",
              "    [theme=dark] .colab-df-convert {\n",
              "      background-color: #3B4455;\n",
              "      fill: #D2E3FC;\n",
              "    }\n",
              "\n",
              "    [theme=dark] .colab-df-convert:hover {\n",
              "      background-color: #434B5C;\n",
              "      box-shadow: 0px 1px 3px 1px rgba(0, 0, 0, 0.15);\n",
              "      filter: drop-shadow(0px 1px 2px rgba(0, 0, 0, 0.3));\n",
              "      fill: #FFFFFF;\n",
              "    }\n",
              "  </style>\n",
              "\n",
              "      <script>\n",
              "        const buttonEl =\n",
              "          document.querySelector('#df-0433f57b-6e5f-4be2-9c48-2d040fc2d7f5 button.colab-df-convert');\n",
              "        buttonEl.style.display =\n",
              "          google.colab.kernel.accessAllowed ? 'block' : 'none';\n",
              "\n",
              "        async function convertToInteractive(key) {\n",
              "          const element = document.querySelector('#df-0433f57b-6e5f-4be2-9c48-2d040fc2d7f5');\n",
              "          const dataTable =\n",
              "            await google.colab.kernel.invokeFunction('convertToInteractive',\n",
              "                                                     [key], {});\n",
              "          if (!dataTable) return;\n",
              "\n",
              "          const docLinkHtml = 'Like what you see? Visit the ' +\n",
              "            '<a target=\"_blank\" href=https://colab.research.google.com/notebooks/data_table.ipynb>data table notebook</a>'\n",
              "            + ' to learn more about interactive tables.';\n",
              "          element.innerHTML = '';\n",
              "          dataTable['output_type'] = 'display_data';\n",
              "          await google.colab.output.renderOutput(dataTable, element);\n",
              "          const docLink = document.createElement('div');\n",
              "          docLink.innerHTML = docLinkHtml;\n",
              "          element.appendChild(docLink);\n",
              "        }\n",
              "      </script>\n",
              "    </div>\n",
              "  </div>\n",
              "  "
            ]
          },
          "metadata": {},
          "execution_count": 5
        }
      ]
    },
    {
      "cell_type": "code",
      "source": [
        "df.columns"
      ],
      "metadata": {
        "execution": {
          "iopub.status.busy": "2022-08-03T04:29:14.096787Z",
          "iopub.execute_input": "2022-08-03T04:29:14.097591Z",
          "iopub.status.idle": "2022-08-03T04:29:14.106129Z",
          "shell.execute_reply.started": "2022-08-03T04:29:14.097542Z",
          "shell.execute_reply": "2022-08-03T04:29:14.104777Z"
        },
        "trusted": true,
        "colab": {
          "base_uri": "https://localhost:8080/"
        },
        "id": "6R3OsIL4FsNO",
        "outputId": "5470aef1-ba5f-4002-ed02-15fe63395581"
      },
      "execution_count": 6,
      "outputs": [
        {
          "output_type": "execute_result",
          "data": {
            "text/plain": [
              "Index(['Date', 'Open', 'High', 'Low', 'Close', 'Volume'], dtype='object')"
            ]
          },
          "metadata": {},
          "execution_count": 6
        }
      ]
    },
    {
      "cell_type": "code",
      "source": [
        "df.shape"
      ],
      "metadata": {
        "execution": {
          "iopub.status.busy": "2022-08-03T04:29:18.512948Z",
          "iopub.execute_input": "2022-08-03T04:29:18.513379Z",
          "iopub.status.idle": "2022-08-03T04:29:18.520670Z",
          "shell.execute_reply.started": "2022-08-03T04:29:18.513335Z",
          "shell.execute_reply": "2022-08-03T04:29:18.519466Z"
        },
        "trusted": true,
        "colab": {
          "base_uri": "https://localhost:8080/"
        },
        "id": "S9eXCBK2FsNO",
        "outputId": "932a4021-225f-4ed2-e047-48bb5647d9bc"
      },
      "execution_count": 7,
      "outputs": [
        {
          "output_type": "execute_result",
          "data": {
            "text/plain": [
              "(1634, 6)"
            ]
          },
          "metadata": {},
          "execution_count": 7
        }
      ]
    },
    {
      "cell_type": "code",
      "source": [
        "df.isnull().sum()"
      ],
      "metadata": {
        "execution": {
          "iopub.status.busy": "2022-08-03T04:29:20.408397Z",
          "iopub.execute_input": "2022-08-03T04:29:20.408797Z",
          "iopub.status.idle": "2022-08-03T04:29:20.419985Z",
          "shell.execute_reply.started": "2022-08-03T04:29:20.408765Z",
          "shell.execute_reply": "2022-08-03T04:29:20.418673Z"
        },
        "trusted": true,
        "colab": {
          "base_uri": "https://localhost:8080/"
        },
        "id": "Xe6kXACVFsNP",
        "outputId": "8e03ca58-61da-44ca-e26f-185da747384c"
      },
      "execution_count": 8,
      "outputs": [
        {
          "output_type": "execute_result",
          "data": {
            "text/plain": [
              "Date      0\n",
              "Open      0\n",
              "High      0\n",
              "Low       0\n",
              "Close     0\n",
              "Volume    0\n",
              "dtype: int64"
            ]
          },
          "metadata": {},
          "execution_count": 8
        }
      ]
    },
    {
      "cell_type": "code",
      "source": [
        "df.dtypes"
      ],
      "metadata": {
        "execution": {
          "iopub.status.busy": "2022-08-03T04:29:22.480963Z",
          "iopub.execute_input": "2022-08-03T04:29:22.481352Z",
          "iopub.status.idle": "2022-08-03T04:29:22.490635Z",
          "shell.execute_reply.started": "2022-08-03T04:29:22.481322Z",
          "shell.execute_reply": "2022-08-03T04:29:22.489028Z"
        },
        "trusted": true,
        "colab": {
          "base_uri": "https://localhost:8080/"
        },
        "id": "yJsuqRmJFsNP",
        "outputId": "deb64542-92d8-4d42-8f60-16c2606a3ad6"
      },
      "execution_count": 9,
      "outputs": [
        {
          "output_type": "execute_result",
          "data": {
            "text/plain": [
              "Date       object\n",
              "Open      float64\n",
              "High      float64\n",
              "Low       float64\n",
              "Close      object\n",
              "Volume     object\n",
              "dtype: object"
            ]
          },
          "metadata": {},
          "execution_count": 9
        }
      ]
    },
    {
      "cell_type": "code",
      "source": [
        "df    = df.loc[:,[\"Open\"]].values\n",
        "train = df[:len(df)-50] \n",
        "test = df[len(train):] \n",
        "# reshape\n",
        "train = train.reshape(train.shape[0],1)\n"
      ],
      "metadata": {
        "execution": {
          "iopub.status.busy": "2022-08-03T04:30:36.464739Z",
          "iopub.execute_input": "2022-08-03T04:30:36.465546Z",
          "iopub.status.idle": "2022-08-03T04:30:36.473353Z",
          "shell.execute_reply.started": "2022-08-03T04:30:36.465505Z",
          "shell.execute_reply": "2022-08-03T04:30:36.471903Z"
        },
        "trusted": true,
        "id": "o5FowNEkFsNQ"
      },
      "execution_count": 10,
      "outputs": []
    },
    {
      "cell_type": "code",
      "source": [
        "train.shape"
      ],
      "metadata": {
        "execution": {
          "iopub.status.busy": "2022-08-03T04:30:41.856775Z",
          "iopub.execute_input": "2022-08-03T04:30:41.857657Z",
          "iopub.status.idle": "2022-08-03T04:30:41.865947Z",
          "shell.execute_reply.started": "2022-08-03T04:30:41.857612Z",
          "shell.execute_reply": "2022-08-03T04:30:41.864468Z"
        },
        "trusted": true,
        "colab": {
          "base_uri": "https://localhost:8080/"
        },
        "id": "sth7L9vcFsNQ",
        "outputId": "db7acfc2-e808-4dec-d053-8c66867ace8d"
      },
      "execution_count": 11,
      "outputs": [
        {
          "output_type": "execute_result",
          "data": {
            "text/plain": [
              "(1584, 1)"
            ]
          },
          "metadata": {},
          "execution_count": 11
        }
      ]
    },
    {
      "cell_type": "code",
      "source": [
        "from sklearn.preprocessing import MinMaxScaler\n",
        "scaler = MinMaxScaler(feature_range= (0,1)) # defining of Scaler\n",
        "train_scaled = scaler.fit_transform(train) # applying to Scaler to train\n",
        "\n",
        "# plt.plot(train_scaled)\n",
        "# plt.show()"
      ],
      "metadata": {
        "execution": {
          "iopub.status.busy": "2022-08-03T04:30:47.703683Z",
          "iopub.execute_input": "2022-08-03T04:30:47.704128Z",
          "iopub.status.idle": "2022-08-03T04:30:47.882170Z",
          "shell.execute_reply.started": "2022-08-03T04:30:47.704095Z",
          "shell.execute_reply": "2022-08-03T04:30:47.880910Z"
        },
        "trusted": true,
        "id": "ljNh579ZFsNS"
      },
      "execution_count": 12,
      "outputs": []
    },
    {
      "cell_type": "code",
      "source": [
        "# We add first 50 location to \"X_train\" and we 51. location to \"y_train\" .\n",
        "X_train = []\n",
        "y_train = []\n",
        "timesteps = 50\n",
        "\n",
        "for i in range(timesteps, train_scaled.shape[0]):\n",
        "    X_train.append(train_scaled[i-timesteps:i,0])\n",
        "    y_train.append(train_scaled[i,0])\n",
        "\n",
        "X_train, y_train = np.array(X_train), np.array(y_train)\n",
        "\n",
        "\n",
        "# Reshaping\n",
        "X_train = X_train.reshape(X_train.shape[0], X_train.shape[1], 1)  # Dimension of array is 3."
      ],
      "metadata": {
        "execution": {
          "iopub.status.busy": "2022-08-03T04:30:51.206363Z",
          "iopub.execute_input": "2022-08-03T04:30:51.206774Z",
          "iopub.status.idle": "2022-08-03T04:30:51.215578Z",
          "shell.execute_reply.started": "2022-08-03T04:30:51.206740Z",
          "shell.execute_reply": "2022-08-03T04:30:51.214414Z"
        },
        "trusted": true,
        "id": "6vC8tohhFsNS"
      },
      "execution_count": 13,
      "outputs": []
    },
    {
      "cell_type": "code",
      "source": [
        "# --- RNN ---\n",
        "\n",
        "# Importing the Keras libraries and packages\n",
        "\n",
        "from keras.models import Sequential  \n",
        "from keras.layers import Dense \n",
        "from keras.layers import SimpleRNN\n",
        "from keras.layers import Dropout # it block to overfitting \n",
        "\n",
        "# Initialising the RNN\n",
        "regressor = Sequential()\n",
        "\n",
        "# Adding the first RNN layer and some Dropout regularisation\n",
        "regressor.add(SimpleRNN(units = 50,activation='tanh', return_sequences = True, input_shape = (X_train.shape[1], 1)))\n",
        "regressor.add(Dropout(0.2)) \n",
        "\n",
        "# Adding a second RNN layer and some Dropout regularisation.\n",
        "regressor.add(SimpleRNN(units = 50,activation='tanh', return_sequences = True))\n",
        "regressor.add(Dropout(0.2))\n",
        "\n",
        "# Adding a third RNN layer and some Dropout regularisation. \n",
        "regressor.add(SimpleRNN(units = 50,activation='tanh', return_sequences = True))\n",
        "regressor.add(Dropout(0.2))\n",
        "\n",
        "# Adding a fourth RNN layer and some Dropout regularisation.\n",
        "regressor.add(SimpleRNN(units = 50))\n",
        "regressor.add(Dropout(0.2))\n",
        "\n",
        "\n",
        "# Adding the output layer\n",
        "regressor.add(Dense(units = 1))\n",
        "\n",
        "# Compiling the RNN\n",
        "regressor.compile(optimizer = 'adam', loss = 'mean_squared_error')\n",
        "\n",
        "# Fitting the RNN to the Training set\n",
        "regressor.fit(X_train, y_train, epochs = 100, batch_size = 32)"
      ],
      "metadata": {
        "execution": {
          "iopub.status.busy": "2022-08-03T04:30:56.079762Z",
          "iopub.execute_input": "2022-08-03T04:30:56.080220Z",
          "iopub.status.idle": "2022-08-03T04:38:02.555179Z",
          "shell.execute_reply.started": "2022-08-03T04:30:56.080181Z",
          "shell.execute_reply": "2022-08-03T04:38:02.553904Z"
        },
        "trusted": true,
        "colab": {
          "base_uri": "https://localhost:8080/"
        },
        "id": "Jojkqdy8FsNT",
        "outputId": "7aa312db-83f5-4f19-e9bb-88c292c3427c"
      },
      "execution_count": 14,
      "outputs": [
        {
          "output_type": "stream",
          "name": "stdout",
          "text": [
            "Epoch 1/100\n",
            "48/48 [==============================] - 8s 52ms/step - loss: 0.3590\n",
            "Epoch 2/100\n",
            "48/48 [==============================] - 3s 53ms/step - loss: 0.2094\n",
            "Epoch 3/100\n",
            "48/48 [==============================] - 3s 68ms/step - loss: 0.1482\n",
            "Epoch 4/100\n",
            "48/48 [==============================] - 4s 75ms/step - loss: 0.1093\n",
            "Epoch 5/100\n",
            "48/48 [==============================] - 2s 52ms/step - loss: 0.0825\n",
            "Epoch 6/100\n",
            "48/48 [==============================] - 3s 56ms/step - loss: 0.0655\n",
            "Epoch 7/100\n",
            "48/48 [==============================] - 2s 51ms/step - loss: 0.0541\n",
            "Epoch 8/100\n",
            "48/48 [==============================] - 3s 68ms/step - loss: 0.0435\n",
            "Epoch 9/100\n",
            "48/48 [==============================] - 3s 62ms/step - loss: 0.0324\n",
            "Epoch 10/100\n",
            "48/48 [==============================] - 2s 51ms/step - loss: 0.0295\n",
            "Epoch 11/100\n",
            "48/48 [==============================] - 2s 50ms/step - loss: 0.0256\n",
            "Epoch 12/100\n",
            "48/48 [==============================] - 2s 52ms/step - loss: 0.0214\n",
            "Epoch 13/100\n",
            "48/48 [==============================] - 4s 80ms/step - loss: 0.0180\n",
            "Epoch 14/100\n",
            "48/48 [==============================] - 3s 52ms/step - loss: 0.0166\n",
            "Epoch 15/100\n",
            "48/48 [==============================] - 3s 52ms/step - loss: 0.0157\n",
            "Epoch 16/100\n",
            "48/48 [==============================] - 2s 51ms/step - loss: 0.0133\n",
            "Epoch 17/100\n",
            "48/48 [==============================] - 2s 51ms/step - loss: 0.0115\n",
            "Epoch 18/100\n",
            "48/48 [==============================] - 4s 80ms/step - loss: 0.0113\n",
            "Epoch 19/100\n",
            "48/48 [==============================] - 3s 52ms/step - loss: 0.0093\n",
            "Epoch 20/100\n",
            "48/48 [==============================] - 2s 52ms/step - loss: 0.0085\n",
            "Epoch 21/100\n",
            "48/48 [==============================] - 3s 52ms/step - loss: 0.0082\n",
            "Epoch 22/100\n",
            "48/48 [==============================] - 3s 66ms/step - loss: 0.0078\n",
            "Epoch 23/100\n",
            "48/48 [==============================] - 3s 66ms/step - loss: 0.0078\n",
            "Epoch 24/100\n",
            "48/48 [==============================] - 2s 52ms/step - loss: 0.0064\n",
            "Epoch 25/100\n",
            "48/48 [==============================] - 3s 55ms/step - loss: 0.0067\n",
            "Epoch 26/100\n",
            "48/48 [==============================] - 2s 52ms/step - loss: 0.0064\n",
            "Epoch 27/100\n",
            "48/48 [==============================] - 4s 76ms/step - loss: 0.0056\n",
            "Epoch 28/100\n",
            "48/48 [==============================] - 3s 53ms/step - loss: 0.0059\n",
            "Epoch 29/100\n",
            "48/48 [==============================] - 2s 50ms/step - loss: 0.0051\n",
            "Epoch 30/100\n",
            "48/48 [==============================] - 2s 51ms/step - loss: 0.0057\n",
            "Epoch 31/100\n",
            "48/48 [==============================] - 2s 51ms/step - loss: 0.0051\n",
            "Epoch 32/100\n",
            "48/48 [==============================] - 4s 79ms/step - loss: 0.0046\n",
            "Epoch 33/100\n",
            "48/48 [==============================] - 2s 51ms/step - loss: 0.0038\n",
            "Epoch 34/100\n",
            "48/48 [==============================] - 2s 51ms/step - loss: 0.0041\n",
            "Epoch 35/100\n",
            "48/48 [==============================] - 2s 52ms/step - loss: 0.0040\n",
            "Epoch 36/100\n",
            "48/48 [==============================] - 3s 56ms/step - loss: 0.0042\n",
            "Epoch 37/100\n",
            "48/48 [==============================] - 4s 75ms/step - loss: 0.0044\n",
            "Epoch 38/100\n",
            "48/48 [==============================] - 3s 53ms/step - loss: 0.0040\n",
            "Epoch 39/100\n",
            "48/48 [==============================] - 3s 53ms/step - loss: 0.0037\n",
            "Epoch 40/100\n",
            "48/48 [==============================] - 3s 53ms/step - loss: 0.0039\n",
            "Epoch 41/100\n",
            "48/48 [==============================] - 3s 71ms/step - loss: 0.0038\n",
            "Epoch 42/100\n",
            "48/48 [==============================] - 3s 62ms/step - loss: 0.0035\n",
            "Epoch 43/100\n",
            "48/48 [==============================] - 3s 53ms/step - loss: 0.0037\n",
            "Epoch 44/100\n",
            "48/48 [==============================] - 2s 51ms/step - loss: 0.0035\n",
            "Epoch 45/100\n",
            "48/48 [==============================] - 3s 55ms/step - loss: 0.0036\n",
            "Epoch 46/100\n",
            "48/48 [==============================] - 4s 81ms/step - loss: 0.0033\n",
            "Epoch 47/100\n",
            "48/48 [==============================] - 3s 53ms/step - loss: 0.0031\n",
            "Epoch 48/100\n",
            "48/48 [==============================] - 3s 54ms/step - loss: 0.0034\n",
            "Epoch 49/100\n",
            "48/48 [==============================] - 2s 51ms/step - loss: 0.0031\n",
            "Epoch 50/100\n",
            "48/48 [==============================] - 3s 59ms/step - loss: 0.0030\n",
            "Epoch 51/100\n",
            "48/48 [==============================] - 4s 74ms/step - loss: 0.0028\n",
            "Epoch 52/100\n",
            "48/48 [==============================] - 3s 52ms/step - loss: 0.0029\n",
            "Epoch 53/100\n",
            "48/48 [==============================] - 3s 52ms/step - loss: 0.0030\n",
            "Epoch 54/100\n",
            "48/48 [==============================] - 3s 54ms/step - loss: 0.0027\n",
            "Epoch 55/100\n",
            "48/48 [==============================] - 4s 75ms/step - loss: 0.0028\n",
            "Epoch 56/100\n",
            "48/48 [==============================] - 3s 60ms/step - loss: 0.0029\n",
            "Epoch 57/100\n",
            "48/48 [==============================] - 3s 53ms/step - loss: 0.0026\n",
            "Epoch 58/100\n",
            "48/48 [==============================] - 3s 53ms/step - loss: 0.0027\n",
            "Epoch 59/100\n",
            "48/48 [==============================] - 3s 54ms/step - loss: 0.0029\n",
            "Epoch 60/100\n",
            "48/48 [==============================] - 4s 79ms/step - loss: 0.0026\n",
            "Epoch 61/100\n",
            "48/48 [==============================] - 2s 51ms/step - loss: 0.0024\n",
            "Epoch 62/100\n",
            "48/48 [==============================] - 2s 51ms/step - loss: 0.0025\n",
            "Epoch 63/100\n",
            "48/48 [==============================] - 2s 51ms/step - loss: 0.0027\n",
            "Epoch 64/100\n",
            "48/48 [==============================] - 3s 55ms/step - loss: 0.0027\n",
            "Epoch 65/100\n",
            "48/48 [==============================] - 4s 74ms/step - loss: 0.0025\n",
            "Epoch 66/100\n",
            "48/48 [==============================] - 2s 51ms/step - loss: 0.0024\n",
            "Epoch 67/100\n",
            "48/48 [==============================] - 2s 49ms/step - loss: 0.0023\n",
            "Epoch 68/100\n",
            "48/48 [==============================] - 2s 50ms/step - loss: 0.0022\n",
            "Epoch 69/100\n",
            "48/48 [==============================] - 3s 60ms/step - loss: 0.0023\n",
            "Epoch 70/100\n",
            "48/48 [==============================] - 3s 67ms/step - loss: 0.0021\n",
            "Epoch 71/100\n",
            "48/48 [==============================] - 2s 49ms/step - loss: 0.0023\n",
            "Epoch 72/100\n",
            "48/48 [==============================] - 2s 50ms/step - loss: 0.0020\n",
            "Epoch 73/100\n",
            "48/48 [==============================] - 2s 50ms/step - loss: 0.0022\n",
            "Epoch 74/100\n",
            "48/48 [==============================] - 3s 64ms/step - loss: 0.0020\n",
            "Epoch 75/100\n",
            "48/48 [==============================] - 3s 63ms/step - loss: 0.0023\n",
            "Epoch 76/100\n",
            "48/48 [==============================] - 2s 49ms/step - loss: 0.0021\n",
            "Epoch 77/100\n",
            "48/48 [==============================] - 2s 51ms/step - loss: 0.0020\n",
            "Epoch 78/100\n",
            "48/48 [==============================] - 2s 51ms/step - loss: 0.0019\n",
            "Epoch 79/100\n",
            "48/48 [==============================] - 3s 71ms/step - loss: 0.0020\n",
            "Epoch 80/100\n",
            "48/48 [==============================] - 3s 59ms/step - loss: 0.0019\n",
            "Epoch 81/100\n",
            "48/48 [==============================] - 2s 52ms/step - loss: 0.0021\n",
            "Epoch 82/100\n",
            "48/48 [==============================] - 2s 52ms/step - loss: 0.0024\n",
            "Epoch 83/100\n",
            "48/48 [==============================] - 3s 52ms/step - loss: 0.0022\n",
            "Epoch 84/100\n",
            "48/48 [==============================] - 4s 79ms/step - loss: 0.0020\n",
            "Epoch 85/100\n",
            "48/48 [==============================] - 2s 51ms/step - loss: 0.0019\n",
            "Epoch 86/100\n",
            "48/48 [==============================] - 2s 50ms/step - loss: 0.0020\n",
            "Epoch 87/100\n",
            "48/48 [==============================] - 2s 52ms/step - loss: 0.0020\n",
            "Epoch 88/100\n",
            "48/48 [==============================] - 3s 53ms/step - loss: 0.0021\n",
            "Epoch 89/100\n",
            "48/48 [==============================] - 4s 75ms/step - loss: 0.0020\n",
            "Epoch 90/100\n",
            "48/48 [==============================] - 2s 52ms/step - loss: 0.0020\n",
            "Epoch 91/100\n",
            "48/48 [==============================] - 2s 49ms/step - loss: 0.0020\n",
            "Epoch 92/100\n",
            "48/48 [==============================] - 2s 50ms/step - loss: 0.0020\n",
            "Epoch 93/100\n",
            "48/48 [==============================] - 3s 58ms/step - loss: 0.0022\n",
            "Epoch 94/100\n",
            "48/48 [==============================] - 3s 69ms/step - loss: 0.0019\n",
            "Epoch 95/100\n",
            "48/48 [==============================] - 2s 51ms/step - loss: 0.0017\n",
            "Epoch 96/100\n",
            "48/48 [==============================] - 2s 51ms/step - loss: 0.0017\n",
            "Epoch 97/100\n",
            "48/48 [==============================] - 2s 50ms/step - loss: 0.0017\n",
            "Epoch 98/100\n",
            "48/48 [==============================] - 3s 69ms/step - loss: 0.0016\n",
            "Epoch 99/100\n",
            "48/48 [==============================] - 3s 59ms/step - loss: 0.0021\n",
            "Epoch 100/100\n",
            "48/48 [==============================] - 2s 50ms/step - loss: 0.0016\n"
          ]
        },
        {
          "output_type": "execute_result",
          "data": {
            "text/plain": [
              "<keras.callbacks.History at 0x7fdf18fcd690>"
            ]
          },
          "metadata": {},
          "execution_count": 14
        }
      ]
    },
    {
      "cell_type": "code",
      "source": [
        "inputs = df[len(df) - len(test) - timesteps:]\n",
        "inputs = scaler.transform(inputs)  # min max scaler"
      ],
      "metadata": {
        "execution": {
          "iopub.status.busy": "2022-08-03T04:38:05.903422Z",
          "iopub.execute_input": "2022-08-03T04:38:05.903872Z",
          "iopub.status.idle": "2022-08-03T04:38:05.910149Z",
          "shell.execute_reply.started": "2022-08-03T04:38:05.903809Z",
          "shell.execute_reply": "2022-08-03T04:38:05.908900Z"
        },
        "trusted": true,
        "id": "u2Vg3bTZFsNU"
      },
      "execution_count": 15,
      "outputs": []
    },
    {
      "cell_type": "code",
      "source": [
        "X_test = []\n",
        "for i in range(timesteps, inputs.shape[0]):\n",
        "    X_test.append(inputs[i-timesteps:i, 0])  \n",
        "X_test = np.array(X_test)\n",
        "X_test = X_test.reshape(X_test.shape[0], X_test.shape[1], 1)"
      ],
      "metadata": {
        "execution": {
          "iopub.status.busy": "2022-08-03T04:38:08.988833Z",
          "iopub.execute_input": "2022-08-03T04:38:08.989224Z",
          "iopub.status.idle": "2022-08-03T04:38:08.995735Z",
          "shell.execute_reply.started": "2022-08-03T04:38:08.989191Z",
          "shell.execute_reply": "2022-08-03T04:38:08.994837Z"
        },
        "trusted": true,
        "id": "QGwTv-a-FsNU"
      },
      "execution_count": 16,
      "outputs": []
    },
    {
      "cell_type": "code",
      "source": [
        "predicted_data = regressor.predict(X_test)\n",
        "predicted_data = scaler.inverse_transform(predicted_data)"
      ],
      "metadata": {
        "execution": {
          "iopub.status.busy": "2022-08-03T04:38:11.997006Z",
          "iopub.execute_input": "2022-08-03T04:38:11.997393Z",
          "iopub.status.idle": "2022-08-03T04:38:12.755908Z",
          "shell.execute_reply.started": "2022-08-03T04:38:11.997363Z",
          "shell.execute_reply": "2022-08-03T04:38:12.754882Z"
        },
        "trusted": true,
        "colab": {
          "base_uri": "https://localhost:8080/"
        },
        "id": "qjxy2I_KFsNV",
        "outputId": "c5c58719-f171-4ba7-a778-9a66fede68ae"
      },
      "execution_count": 17,
      "outputs": [
        {
          "output_type": "stream",
          "name": "stdout",
          "text": [
            "2/2 [==============================] - 1s 24ms/step\n"
          ]
        }
      ]
    },
    {
      "cell_type": "code",
      "source": [
        "plt.figure(figsize=(8,4), dpi=80, facecolor='w', edgecolor='k')\n",
        "plt.plot(test,color=\"orange\",label=\"Real value\")\n",
        "plt.plot(predicted_data,color=\"c\",label=\"RNN predicted result\")\n",
        "plt.legend()\n",
        "plt.xlabel(\"Days\")\n",
        "plt.ylabel(\"Values\")\n",
        "plt.grid(True)\n",
        "plt.show()"
      ],
      "metadata": {
        "execution": {
          "iopub.status.busy": "2022-08-03T04:38:14.885129Z",
          "iopub.execute_input": "2022-08-03T04:38:14.885513Z",
          "iopub.status.idle": "2022-08-03T04:38:15.111181Z",
          "shell.execute_reply.started": "2022-08-03T04:38:14.885481Z",
          "shell.execute_reply": "2022-08-03T04:38:15.109788Z"
        },
        "trusted": true,
        "colab": {
          "base_uri": "https://localhost:8080/",
          "height": 311
        },
        "id": "eyPjylurFsNV",
        "outputId": "7b7f9752-6362-434b-e581-625ddc2851e5"
      },
      "execution_count": 18,
      "outputs": [
        {
          "output_type": "display_data",
          "data": {
            "text/plain": [
              "<Figure size 640x320 with 1 Axes>"
            ],
            "image/png": "[encoded data removed]"
          },
          "metadata": {}
        }
      ]
    }
  ]
}