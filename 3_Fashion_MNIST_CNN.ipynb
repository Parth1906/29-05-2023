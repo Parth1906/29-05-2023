{
  "nbformat": 4,
  "nbformat_minor": 0,
  "metadata": {
    "colab": {
      "provenance": []
    },
    "kernelspec": {
      "name": "python3",
      "display_name": "Python 3"
    },
    "language_info": {
      "name": "python"
    }
  },
  "cells": [
    {
      "cell_type": "code",
      "source": [
        "import tensorflow as tf\n",
        "from tensorflow import keras\n",
        "from tensorflow.keras.datasets import fashion_mnist\n",
        "from tensorflow.keras.models import Sequential\n",
        "from tensorflow.keras.layers import Conv2D, MaxPooling2D, Flatten, Dense\n",
        "import matplotlib.pyplot as plt"
      ],
      "metadata": {
        "id": "XocpaOPW_OhL"
      },
      "execution_count": 4,
      "outputs": []
    },
    {
      "cell_type": "code",
      "source": [
        "# Load the MNIST Fashion dataset\n",
        "(train_images, train_labels), (test_images, test_labels) = fashion_mnist.load_data()"
      ],
      "metadata": {
        "id": "GROZ-CNq_UNU"
      },
      "execution_count": 5,
      "outputs": []
    },
    {
      "cell_type": "code",
      "source": [
        "import random\n",
        "i = random.randint(0,60001) \n",
        "plt.imshow(train_images[i,1:])"
      ],
      "metadata": {
        "colab": {
          "base_uri": "https://localhost:8080/",
          "height": 447
        },
        "id": "TFO2Qei_tJ-7",
        "outputId": "7fd08b34-35cd-415c-d200-91269b89eeee"
      },
      "execution_count": 6,
      "outputs": [
        {
          "output_type": "execute_result",
          "data": {
            "text/plain": [
              "<matplotlib.image.AxesImage at 0x7fa89f56a650>"
            ]
          },
          "metadata": {},
          "execution_count": 6
        },
        {
          "output_type": "display_data",
          "data": {
            "text/plain": [
              "<Figure size 640x480 with 1 Axes>"
            ],
            "image/png": "[encoded data removed]"
          },
          "metadata": {}
        }
      ]
    },
    {
      "cell_type": "code",
      "source": [
        "# Preprocess the data\n",
        "train_images = train_images.reshape((-1, 28, 28, 1)) / 255.0\n",
        "test_images = test_images.reshape((-1, 28, 28, 1)) / 255.0"
      ],
      "metadata": {
        "id": "86LX1lvc_YS6"
      },
      "execution_count": 7,
      "outputs": []
    },
    {
      "cell_type": "code",
      "source": [
        "# Build the CNN model\n",
        "model = Sequential([\n",
        "    Conv2D(32, (3, 3), activation='relu', input_shape=(28, 28, 1)),\n",
        "    MaxPooling2D((2, 2)),\n",
        "    Conv2D(64, (3, 3), activation='relu'),\n",
        "    MaxPooling2D((2, 2)),\n",
        "    Flatten(),\n",
        "    Dense(64, activation='relu'),\n",
        "    Dense(10, activation='softmax')\n",
        "])"
      ],
      "metadata": {
        "id": "r1Qf9WIp_cJm"
      },
      "execution_count": 8,
      "outputs": []
    },
    {
      "cell_type": "code",
      "source": [
        "# Compile the model\n",
        "model.compile(optimizer='adam', loss='sparse_categorical_crossentropy', metrics=['accuracy'])"
      ],
      "metadata": {
        "id": "92GcZ4IC_fLH"
      },
      "execution_count": 9,
      "outputs": []
    },
    {
      "cell_type": "code",
      "source": [
        "# Train the model\n",
        "model.fit(train_images, train_labels, epochs=10, batch_size=128, validation_split=0.2)"
      ],
      "metadata": {
        "colab": {
          "base_uri": "https://localhost:8080/"
        },
        "id": "eeHWT2aH_iUA",
        "outputId": "3916ad1b-ee0d-40a3-d592-d95101b9f55f"
      },
      "execution_count": 10,
      "outputs": [
        {
          "output_type": "stream",
          "name": "stdout",
          "text": [
            "Epoch 1/10\n",
            "375/375 [==============================] - 36s 92ms/step - loss: 0.5889 - accuracy: 0.7910 - val_loss: 0.4022 - val_accuracy: 0.8598\n",
            "Epoch 2/10\n",
            "375/375 [==============================] - 34s 92ms/step - loss: 0.3803 - accuracy: 0.8629 - val_loss: 0.3818 - val_accuracy: 0.8664\n",
            "Epoch 3/10\n",
            "375/375 [==============================] - 34s 91ms/step - loss: 0.3380 - accuracy: 0.8798 - val_loss: 0.3441 - val_accuracy: 0.8763\n",
            "Epoch 4/10\n",
            "375/375 [==============================] - 35s 94ms/step - loss: 0.3069 - accuracy: 0.8899 - val_loss: 0.3020 - val_accuracy: 0.8928\n",
            "Epoch 5/10\n",
            "375/375 [==============================] - 40s 106ms/step - loss: 0.2829 - accuracy: 0.8980 - val_loss: 0.2914 - val_accuracy: 0.8953\n",
            "Epoch 6/10\n",
            "375/375 [==============================] - 33s 89ms/step - loss: 0.2668 - accuracy: 0.9041 - val_loss: 0.3060 - val_accuracy: 0.8908\n",
            "Epoch 7/10\n",
            "375/375 [==============================] - 34s 90ms/step - loss: 0.2490 - accuracy: 0.9089 - val_loss: 0.2719 - val_accuracy: 0.9018\n",
            "Epoch 8/10\n",
            "375/375 [==============================] - 34s 91ms/step - loss: 0.2342 - accuracy: 0.9156 - val_loss: 0.2854 - val_accuracy: 0.8984\n",
            "Epoch 9/10\n",
            "375/375 [==============================] - 34s 90ms/step - loss: 0.2202 - accuracy: 0.9190 - val_loss: 0.2666 - val_accuracy: 0.9021\n",
            "Epoch 10/10\n",
            "375/375 [==============================] - 33s 89ms/step - loss: 0.2073 - accuracy: 0.9251 - val_loss: 0.2569 - val_accuracy: 0.9090\n"
          ]
        },
        {
          "output_type": "execute_result",
          "data": {
            "text/plain": [
              "<keras.callbacks.History at 0x7fa89c07fbe0>"
            ]
          },
          "metadata": {},
          "execution_count": 10
        }
      ]
    },
    {
      "cell_type": "code",
      "execution_count": 11,
      "metadata": {
        "colab": {
          "base_uri": "https://localhost:8080/"
        },
        "id": "TUV9x6qL_LqZ",
        "outputId": "632864e3-3c79-435b-a55f-cd06345beebc"
      },
      "outputs": [
        {
          "output_type": "stream",
          "name": "stdout",
          "text": [
            "313/313 [==============================] - 3s 10ms/step - loss: 0.2647 - accuracy: 0.9056\n",
            "Test Loss: 0.2646852433681488\n",
            "Test Accuracy: 0.9056000113487244\n"
          ]
        }
      ],
      "source": [
        "# Evaluate the model\n",
        "loss, accuracy = model.evaluate(test_images, test_labels)\n",
        "print(\"Test Loss:\", loss)\n",
        "print(\"Test Accuracy:\", accuracy)\n"
      ]
    },
    {
      "cell_type": "code",
      "source": [
        "# Make predictions on the test data\n",
        "predictions = model.predict(test_images)"
      ],
      "metadata": {
        "colab": {
          "base_uri": "https://localhost:8080/"
        },
        "id": "AiaWg_KG_tdg",
        "outputId": "a5e7bfd9-76a5-44b2-b2fa-0d03e855f7d8"
      },
      "execution_count": 12,
      "outputs": [
        {
          "output_type": "stream",
          "name": "stdout",
          "text": [
            "313/313 [==============================] - 2s 8ms/step\n"
          ]
        }
      ]
    },
    {
      "cell_type": "code",
      "source": [
        "# Convert predictions to class labels\n",
        "predicted_labels = [tf.argmax(prediction).numpy() for prediction in predictions]"
      ],
      "metadata": {
        "id": "5wB0t07S_vZk"
      },
      "execution_count": 13,
      "outputs": []
    },
    {
      "cell_type": "code",
      "source": [
        "# Print predicted labels for the first few test samples\n",
        "for i in range(10):\n",
        "    print(\"Predicted label:\", predicted_labels[i])\n",
        "    print(\"True label:\", test_labels[i])\n",
        "    print()"
      ],
      "metadata": {
        "colab": {
          "base_uri": "https://localhost:8080/"
        },
        "id": "DukUuCrh_mqf",
        "outputId": "61609d52-1716-43a9-bb41-76b9fb452e35"
      },
      "execution_count": 14,
      "outputs": [
        {
          "output_type": "stream",
          "name": "stdout",
          "text": [
            "Predicted label: 9\n",
            "True label: 9\n",
            "\n",
            "Predicted label: 2\n",
            "True label: 2\n",
            "\n",
            "Predicted label: 1\n",
            "True label: 1\n",
            "\n",
            "Predicted label: 1\n",
            "True label: 1\n",
            "\n",
            "Predicted label: 6\n",
            "True label: 6\n",
            "\n",
            "Predicted label: 1\n",
            "True label: 1\n",
            "\n",
            "Predicted label: 4\n",
            "True label: 4\n",
            "\n",
            "Predicted label: 6\n",
            "True label: 6\n",
            "\n",
            "Predicted label: 5\n",
            "True label: 5\n",
            "\n",
            "Predicted label: 7\n",
            "True label: 7\n",
            "\n"
          ]
        }
      ]
    },
    {
      "cell_type": "code",
      "source": [],
      "metadata": {
        "id": "CXZt7EkPBn-e"
      },
      "execution_count": null,
      "outputs": []
    }
  ]
}